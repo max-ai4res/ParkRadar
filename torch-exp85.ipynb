{
 "cells": [
  {
   "cell_type": "markdown",
   "id": "34ffcdec",
   "metadata": {},
   "source": [
    "# Sequential methods to build e neural net"
   ]
  },
  {
   "cell_type": "code",
   "execution_count": 31,
   "id": "91cff19d",
   "metadata": {},
   "outputs": [],
   "source": [
    "import torch\n",
    "import torch.nn as nn\n",
    "import numpy as np\n",
    "import matplotlib.pyplot as plt\n",
    "from torch.utils.data import Dataset, DataLoader\n",
    "from torchsummary import summary\n",
    "\n",
    "device = 'mps' if torch.backends.mps.is_available() else 'cpu'"
   ]
  },
  {
   "cell_type": "code",
   "execution_count": 32,
   "id": "c5647b02",
   "metadata": {},
   "outputs": [],
   "source": [
    "x = [[1,2],[3,4],[5,6],[7,8]]\n",
    "y = [[3],[7],[11],[15]]"
   ]
  },
  {
   "cell_type": "code",
   "execution_count": 33,
   "id": "2306cd3d",
   "metadata": {},
   "outputs": [],
   "source": [
    "class MyDataset(Dataset):\n",
    "    def __init__(self, x, y):\n",
    "        self.x = torch.tensor(x).float().to(device)\n",
    "        self.y = torch.tensor(y).float().to(device)\n",
    "        \n",
    "    def __getitem__(self, n):\n",
    "        return self.x[n], self.y[n]\n",
    "    \n",
    "    def __len__(self):\n",
    "        return len(self.x)"
   ]
  },
  {
   "cell_type": "code",
   "execution_count": 34,
   "id": "5a15df45",
   "metadata": {},
   "outputs": [],
   "source": [
    "ds = MyDataset(x, y)\n",
    "dl = DataLoader(ds, batch_size=2, shuffle=True)\n",
    "\n",
    "model = nn.Sequential(\n",
    "        nn.Linear(2, 8),\n",
    "        nn.ReLU(),\n",
    "        nn.Linear(8, 1)\n",
    "    ).to(device)\n"
   ]
  },
  {
   "cell_type": "code",
   "execution_count": 35,
   "id": "cf080fc2",
   "metadata": {},
   "outputs": [
    {
     "name": "stdout",
     "output_type": "stream",
     "text": [
      "0.12926292419433594\n"
     ]
    }
   ],
   "source": [
    "#summary(model, torch.zeros(1, 2))\n",
    "\n",
    "loss_func = nn.MSELoss()\n",
    "\n",
    "from torch.optim import SGD\n",
    "opt = SGD(model.parameters(), lr = 0.001)\n",
    "\n",
    "import time\n",
    "loss_hisotry = []\n",
    "\n",
    "start = time.time()\n",
    "\n",
    "for _ in range(50):\n",
    "    for ix, iy in dl:\n",
    "        opt.zero_grad()\n",
    "        loss_value = loss_func(model(ix), iy)\n",
    "        loss_value.backward()\n",
    "        opt.step()\n",
    "        loss_hisotry.append(loss_value)\n",
    "\n",
    "end = time.time()\n",
    "\n",
    "print(end-start)"
   ]
  },
  {
   "cell_type": "code",
   "execution_count": 36,
   "id": "49359e98",
   "metadata": {},
   "outputs": [
    {
     "data": {
      "text/plain": [
       "tensor([[16.5960],\n",
       "        [20.2760],\n",
       "        [22.1160],\n",
       "        [ 4.4492]], device='mps:0', grad_fn=<LinearBackward0>)"
      ]
     },
     "execution_count": 36,
     "metadata": {},
     "output_type": "execute_result"
    }
   ],
   "source": [
    "val = [[8,9], [10,11], [11,12], [1.5,2.5]]\n",
    "val_T = torch.tensor(val).float().to(device)\n",
    "model(val_T)"
   ]
  },
  {
   "cell_type": "code",
   "execution_count": 37,
   "id": "7d053c27",
   "metadata": {},
   "outputs": [],
   "source": [
    "torch.save(model.to('cpu').state_dict(), 'nntest.pth')"
   ]
  },
  {
   "cell_type": "code",
   "execution_count": 38,
   "id": "bba8c083",
   "metadata": {},
   "outputs": [
    {
     "data": {
      "text/plain": [
       "tensor([[16.5960],\n",
       "        [20.2760],\n",
       "        [22.1160],\n",
       "        [ 4.4492]], device='mps:0', grad_fn=<LinearBackward0>)"
      ]
     },
     "execution_count": 38,
     "metadata": {},
     "output_type": "execute_result"
    }
   ],
   "source": [
    "saved_model_state = torch.load('nntest.pth')\n",
    "\n",
    "saved_model = nn.Sequential(\n",
    "        nn.Linear(2, 8),\n",
    "        nn.ReLU(),\n",
    "        nn.Linear(8, 1)\n",
    "    )\n",
    "\n",
    "saved_model.load_state_dict(saved_model_state)\n",
    "saved_model.to(device)\n",
    "\n",
    "saved_model(val_T)"
   ]
  }
 ],
 "metadata": {
  "kernelspec": {
   "display_name": "Python 3 (ipykernel)",
   "language": "python",
   "name": "python3"
  },
  "language_info": {
   "codemirror_mode": {
    "name": "ipython",
    "version": 3
   },
   "file_extension": ".py",
   "mimetype": "text/x-python",
   "name": "python",
   "nbconvert_exporter": "python",
   "pygments_lexer": "ipython3",
   "version": "3.9.12"
  }
 },
 "nbformat": 4,
 "nbformat_minor": 5
}
