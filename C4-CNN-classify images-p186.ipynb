{
 "cells": [
  {
   "cell_type": "code",
   "execution_count": 16,
   "id": "a4f122dc-e568-46fd-8931-e6d101c31031",
   "metadata": {},
   "outputs": [],
   "source": [
    "from torchvision import datasets\n",
    "from torch.utils.data import Dataset, DataLoader\n",
    "import torch\n",
    "import torch.nn as nn\n",
    "import numpy\n",
    "import matplotlib.pyplot as plt\n",
    "\n",
    "%matplotlib inline\n",
    "\n",
    "device = 'mps' if torch.backends.mps.is_available() else \\\n",
    "    'cuda' if torch.backends.cuda.is_available() else \\\n",
    "    'cpu'\n",
    "device = 'cpu'"
   ]
  },
  {
   "cell_type": "code",
   "execution_count": 26,
   "id": "56294baf-adb7-42ec-a234-c306e06bc0b4",
   "metadata": {},
   "outputs": [],
   "source": [
    "datafolder = 'data'\n",
    "fmnist = datasets.FashionMNIST(datafolder, download=True, train=True)\n",
    "val_fmnist = datasets.FashionMNIST(datafolder, download=True, train=False)\n",
    "\n",
    "tr_images = fmnist.data\n",
    "tr_targets = fmnist.targets\n",
    "\n",
    "val_images = val_fmnist.data\n",
    "val_targets = val_fmnist.targets\n",
    "\n",
    "class FMNISTDataset(Dataset):\n",
    "    def __init__(self, x, y):\n",
    "        x = x.float() / 255\n",
    "        x = x.view(-1, 1, 28, 28)\n",
    "        self.x, self.y = x, y\n",
    "    def __getitem__(self, idx):\n",
    "        x, y = self.x[idx], self.y[idx]\n",
    "        return x.to(device), y.to(device)\n",
    "    def __len__(self):\n",
    "        return len(self.x)"
   ]
  },
  {
   "cell_type": "code",
   "execution_count": 27,
   "id": "0549c8f7-89f4-48f8-ace6-e6c1784d4794",
   "metadata": {},
   "outputs": [],
   "source": [
    "from torch.optim import SGD, Adam\n",
    "\n",
    "def get_model():\n",
    "    model = nn.Sequential(\n",
    "        nn.Conv2d(1, 64, kernel_size=3), # 1x28x28 --> 64x26x26\n",
    "        nn.MaxPool2d(2), # --> 64x13x13\n",
    "        nn.ReLU(),\n",
    "        nn.Conv2d(64, 128, kernel_size=3), #64x13x13 --> 128x11x11\n",
    "        nn.MaxPool2d(2), # --> 128x5x5\n",
    "        nn.ReLU(),\n",
    "        nn.Flatten(), # 128x5x5 --> 128*5*5 = 3200\n",
    "        nn.Linear(3200, 256),\n",
    "        nn.ReLU(),\n",
    "        nn.Linear(256, 10)\n",
    "    ).to(device)\n",
    "    loss_fn = nn.CrossEntropyLoss()\n",
    "    optimizer = Adam(model.parameters(), lr=1e-3)\n",
    "    return model, loss_fn, optimizer\n",
    "\n",
    "def train_batch(x, y, model, opt, loss_fn):\n",
    "    model.train()\n",
    "    prediction = model(x)\n",
    "    batch_loss = loss_fn(prediction, y)\n",
    "    batch_loss.backward()\n",
    "    optimizer.step()\n",
    "    optimizer.zero_grad()\n",
    "    return batch_loss.item()\n",
    "\n",
    "@torch.no_grad()\n",
    "def accuracy(x, y, model):\n",
    "    model.eval()\n",
    "    prediction = model(x)\n",
    "    max_vlues, argmaxes = prediction.max(-1)\n",
    "    is_correct = argmaxes == y\n",
    "    return is_correct.cpu().numpy().tolist()\n",
    "\n",
    "def get_data():\n",
    "    train = FMNISTDataset(tr_images, tr_targets)\n",
    "    trn_dl = DataLoader(train, batch_size=32, shuffle=true)\n",
    "    val = FMNISTDataset(val_images, val_targets)\n",
    "    val_dl = DataLoader(val, batch_size=len(val_images), shuffle=True)\n",
    "    return trn_dl, val_dl"
   ]
  },
  {
   "cell_type": "code",
   "execution_count": 28,
   "id": "54c343fc-e954-44cc-8b78-b0ce17d69dbf",
   "metadata": {},
   "outputs": [
    {
     "name": "stdout",
     "output_type": "stream",
     "text": [
      "==========================================================================================\n",
      "Layer (type:depth-idx)                   Output Shape              Param #\n",
      "==========================================================================================\n",
      "├─Conv2d: 1-1                            [-1, 64, 26, 26]          640\n",
      "├─MaxPool2d: 1-2                         [-1, 64, 13, 13]          --\n",
      "├─ReLU: 1-3                              [-1, 64, 13, 13]          --\n",
      "├─Conv2d: 1-4                            [-1, 128, 11, 11]         73,856\n",
      "├─MaxPool2d: 1-5                         [-1, 128, 5, 5]           --\n",
      "├─ReLU: 1-6                              [-1, 128, 5, 5]           --\n",
      "├─Flatten: 1-7                           [-1, 3200]                --\n",
      "├─Linear: 1-8                            [-1, 256]                 819,456\n",
      "├─ReLU: 1-9                              [-1, 256]                 --\n",
      "├─Linear: 1-10                           [-1, 10]                  2,570\n",
      "==========================================================================================\n",
      "Total params: 896,522\n",
      "Trainable params: 896,522\n",
      "Non-trainable params: 0\n",
      "Total mult-adds (M): 10.13\n",
      "==========================================================================================\n",
      "Input size (MB): 0.00\n",
      "Forward/backward pass size (MB): 0.45\n",
      "Params size (MB): 3.42\n",
      "Estimated Total Size (MB): 3.87\n",
      "==========================================================================================\n"
     ]
    },
    {
     "data": {
      "text/plain": [
       "==========================================================================================\n",
       "Layer (type:depth-idx)                   Output Shape              Param #\n",
       "==========================================================================================\n",
       "├─Conv2d: 1-1                            [-1, 64, 26, 26]          640\n",
       "├─MaxPool2d: 1-2                         [-1, 64, 13, 13]          --\n",
       "├─ReLU: 1-3                              [-1, 64, 13, 13]          --\n",
       "├─Conv2d: 1-4                            [-1, 128, 11, 11]         73,856\n",
       "├─MaxPool2d: 1-5                         [-1, 128, 5, 5]           --\n",
       "├─ReLU: 1-6                              [-1, 128, 5, 5]           --\n",
       "├─Flatten: 1-7                           [-1, 3200]                --\n",
       "├─Linear: 1-8                            [-1, 256]                 819,456\n",
       "├─ReLU: 1-9                              [-1, 256]                 --\n",
       "├─Linear: 1-10                           [-1, 10]                  2,570\n",
       "==========================================================================================\n",
       "Total params: 896,522\n",
       "Trainable params: 896,522\n",
       "Non-trainable params: 0\n",
       "Total mult-adds (M): 10.13\n",
       "==========================================================================================\n",
       "Input size (MB): 0.00\n",
       "Forward/backward pass size (MB): 0.45\n",
       "Params size (MB): 3.42\n",
       "Estimated Total Size (MB): 3.87\n",
       "=========================================================================================="
      ]
     },
     "execution_count": 28,
     "metadata": {},
     "output_type": "execute_result"
    }
   ],
   "source": [
    "from torchsummary import summary\n",
    "model, loss_fn, opt = get_model()\n",
    "summary(model, torch.zeros(1,1,28,28))"
   ]
  },
  {
   "cell_type": "code",
   "execution_count": 34,
   "id": "603d2976-9fca-4b56-8912-d9f3dfc58118",
   "metadata": {},
   "outputs": [
    {
     "ename": "ModuleNotFoundError",
     "evalue": "No module named 'ai4res_utils'",
     "output_type": "error",
     "traceback": [
      "\u001b[0;31m---------------------------------------------------------------------------\u001b[0m",
      "\u001b[0;31mModuleNotFoundError\u001b[0m                       Traceback (most recent call last)",
      "Cell \u001b[0;32mIn [34], line 1\u001b[0m\n\u001b[0;32m----> 1\u001b[0m \u001b[38;5;28;01mfrom\u001b[39;00m \u001b[38;5;21;01mai4res_utils\u001b[39;00m \u001b[38;5;28;01mimport\u001b[39;00m ProgressBar\n\u001b[1;32m      3\u001b[0m model, loss_fn, opt \u001b[38;5;241m=\u001b[39m get_model()\n\u001b[1;32m      4\u001b[0m train_losses, train_accuracies \u001b[38;5;241m=\u001b[39m [], []\n",
      "\u001b[0;31mModuleNotFoundError\u001b[0m: No module named 'ai4res_utils'"
     ]
    }
   ],
   "source": [
    "model, loss_fn, opt = get_model()\n",
    "trn_dl, val_dl = get_data()\n",
    "\n",
    "trn_losses, trn_accuracies = [], []\n",
    "val_losses, val_accuracies = [], []\n",
    "\n",
    "for epoch in range(5):\n",
    "    print(epoch)\n",
    "    trn_elosses, trn_eaccuracies = [], []\n",
    "    for ix, batch in enumerate(iter(trn_dl)):\n",
    "        x, y = batch\n",
    "        batch_loss = train_batch(x, y, model, opt, loss_fn)\n",
    "        trn_elosses.append(batch_loss)\n",
    "    trn_eloss = np.array(trn_elosses).mean()\n",
    "    \n",
    "    for ix, batch in enumerate(iter(trn_dl)):\n",
    "        x, y = batch\n",
    "        is_correct = accuracy(x, y, model)\n",
    "        trn_eaccuracies.extend(is_correct)\n",
    "    trn_eaccuracy = np.mean(trn_eaccuracies)\n",
    "    \n",
    "    for ix, batch in enumerate(iter(val_dl)):\n",
    "        x, y = batch\n",
    "        val_is_correct = accuracy(x, y, model)\n",
    "        val_loss =val_loss(x, y, model)\n",
    "    val_eaccuracy = np.mean(val_is_correct)\n",
    "    \n",
    "    trn_losses.append(trn_eloss)\n",
    "    trn_accuracy.append(trn_eaccuracy)\n",
    "    val_losses.append(val_loss)\n",
    "    val_accuracies.append(val_eaccuracy)\n"
   ]
  }
 ],
 "metadata": {
  "kernelspec": {
   "display_name": "Python 3 (ipykernel)",
   "language": "python",
   "name": "python3"
  },
  "language_info": {
   "codemirror_mode": {
    "name": "ipython",
    "version": 3
   },
   "file_extension": ".py",
   "mimetype": "text/x-python",
   "name": "python",
   "nbconvert_exporter": "python",
   "pygments_lexer": "ipython3",
   "version": "3.10.6"
  }
 },
 "nbformat": 4,
 "nbformat_minor": 5
}
