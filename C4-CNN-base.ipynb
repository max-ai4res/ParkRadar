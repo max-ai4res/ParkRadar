{
 "cells": [
  {
   "cell_type": "code",
   "execution_count": 4,
   "id": "0f0f4e9a-4a3c-402f-bf64-a267d0b96921",
   "metadata": {},
   "outputs": [
    {
     "name": "stdout",
     "output_type": "stream",
     "text": [
      "Running on: cpu\n"
     ]
    }
   ],
   "source": [
    "import torch\n",
    "from torch import nn\n",
    "from torch.utils.data import TensorDataset, Dataset, DataLoader\n",
    "from torch.optim import SGD, Adam\n",
    "\n",
    "device = 'mps' if torch.backends.mps.is_available() else 'cuda' if torch.cuda.is_available() else 'cpu'\n",
    "device = 'cpu'\n",
    "print(f'Running on: {device}')\n",
    "\n",
    "from torchvision import datasets\n",
    "import numpy as np\n",
    "import matplotlib.pyplot as plt\n",
    "%matplotlib inline"
   ]
  },
  {
   "cell_type": "code",
   "execution_count": 5,
   "id": "ae9db1fc-cf0e-4862-8d81-9454c667aecb",
   "metadata": {},
   "outputs": [],
   "source": [
    "# train data in form N x C x H x W (2x1x4x4 in example)\n",
    "x_train = torch.tensor([ [[[1,2,3,4],\n",
    "                           [2,3,4,5],\n",
    "                           [5,6,7,8],\n",
    "                           [1,3,4,5]]],\n",
    "                         [[[-1,2,3,-4],\n",
    "                           [2,-3,4,5],\n",
    "                           [-5,6,-7,8],\n",
    "                           [-1,-3,-4,-5]]] \n",
    "                       ]).to(device).float()\n",
    "x_train /= 8.\n",
    "y_train = torch.tensor([0,1]).to(device).float()"
   ]
  },
  {
   "cell_type": "code",
   "execution_count": 17,
   "id": "77670584-5ef0-4909-99e4-2248db6e6ba3",
   "metadata": {},
   "outputs": [],
   "source": [
    "def get_model():\n",
    "    model = nn.Sequential(\n",
    "        #convolution layer - channels in: 1, channels out: 1, ksize: 3 ==> in tensor: 4x4 out tensor: 2x2\n",
    "        nn.Conv2d(1, 1, kernel_size=3), \n",
    "        #pooling 2x2 on tensor 2x2 ==> out: 1x1\n",
    "        nn.MaxPool2d(2),\n",
    "        nn.ReLU(),\n",
    "        nn.Flatten(), # vector 1x1\n",
    "        nn.Linear(1, 1),\n",
    "        nn.Sigmoid(),\n",
    "    ).to(device)\n",
    "    loss_fn = nn.BCELoss()\n",
    "    optimizer = Adam(model.parameters(), lr=1e-3)\n",
    "    return model, loss_fn, optimizer"
   ]
  },
  {
   "cell_type": "code",
   "execution_count": 18,
   "id": "b2f04d72-b93e-49b6-9722-c1997e51eac4",
   "metadata": {},
   "outputs": [
    {
     "name": "stdout",
     "output_type": "stream",
     "text": [
      "==========================================================================================\n",
      "Layer (type:depth-idx)                   Output Shape              Param #\n",
      "==========================================================================================\n",
      "├─Conv2d: 1-1                            [-1, 1, 2, 2]             10\n",
      "├─MaxPool2d: 1-2                         [-1, 1, 1, 1]             --\n",
      "├─ReLU: 1-3                              [-1, 1, 1, 1]             --\n",
      "├─Flatten: 1-4                           [-1, 1]                   --\n",
      "├─Linear: 1-5                            [-1, 1]                   2\n",
      "├─Sigmoid: 1-6                           [-1, 1]                   --\n",
      "==========================================================================================\n",
      "Total params: 12\n",
      "Trainable params: 12\n",
      "Non-trainable params: 0\n",
      "Total mult-adds (M): 0.00\n",
      "==========================================================================================\n",
      "Input size (MB): 0.00\n",
      "Forward/backward pass size (MB): 0.00\n",
      "Params size (MB): 0.00\n",
      "Estimated Total Size (MB): 0.00\n",
      "==========================================================================================\n"
     ]
    }
   ],
   "source": [
    "from torchsummary import summary\n",
    "model, loss_fn, optimizer = get_model()\n",
    "summary(model, x_train);"
   ]
  },
  {
   "cell_type": "code",
   "execution_count": 19,
   "id": "e23bad43-912b-4141-a564-db3374db7556",
   "metadata": {},
   "outputs": [],
   "source": [
    "def train_batch(x, y, model, opt, loss_fn):\n",
    "    model.train()\n",
    "    prediction = model(x)\n",
    "    batch_loss = loss_fn(prediction.squeeze(0), y)\n",
    "    batch_loss.backward()\n",
    "    opt.step()\n",
    "    opt.zero_grad()\n",
    "    return batch_loss.item()"
   ]
  },
  {
   "cell_type": "code",
   "execution_count": 22,
   "id": "c5b6d887-c4ec-4abe-b6bb-1ee37f4c8c1f",
   "metadata": {},
   "outputs": [
    {
     "name": "stdout",
     "output_type": "stream",
     "text": [
      "3.49289330188185e-05\n"
     ]
    }
   ],
   "source": [
    "trn_dl = DataLoader(TensorDataset(x_train, y_train))\n",
    "\n",
    "for epoch in range(2000):\n",
    "    for ix, batch in enumerate(iter(trn_dl)):\n",
    "        x, y = batch\n",
    "        batch_loss = train_batch(x, y, model, optimizer, loss_fn)\n",
    "\n",
    "print(batch_loss)"
   ]
  },
  {
   "cell_type": "code",
   "execution_count": 24,
   "id": "8f0c9e83-cb06-4e51-9bfd-021cc96cd65f",
   "metadata": {},
   "outputs": [
    {
     "data": {
      "text/plain": [
       "tensor([[0.0100]], grad_fn=<SigmoidBackward0>)"
      ]
     },
     "execution_count": 24,
     "metadata": {},
     "output_type": "execute_result"
    }
   ],
   "source": [
    "model(x_train[:1])"
   ]
  },
  {
   "cell_type": "code",
   "execution_count": 19,
   "id": "7c2b2342-f8df-474d-8230-bca3eabfd060",
   "metadata": {},
   "outputs": [
    {
     "name": "stdout",
     "output_type": "stream",
     "text": [
      "torch.Size([2, 1, 4, 4]) torch.Size([4, 4]) torch.Size([2, 1, 4]) tensor([[[[ 0.1250,  0.2500,  0.3750,  0.5000],\n",
      "          [ 0.2500,  0.3750,  0.5000,  0.6250],\n",
      "          [ 0.6250,  0.7500,  0.8750,  1.0000],\n",
      "          [ 0.1250,  0.3750,  0.5000,  0.6250]]],\n",
      "\n",
      "\n",
      "        [[[-0.1250,  0.2500,  0.3750, -0.5000],\n",
      "          [ 0.2500, -0.3750,  0.5000,  0.6250],\n",
      "          [-0.6250,  0.7500, -0.8750,  1.0000],\n",
      "          [-0.1250, -0.3750, -0.5000, -0.6250]]]]) tensor([[0.1250, 0.2500, 0.3750, 0.5000],\n",
      "        [0.2500, 0.3750, 0.5000, 0.6250],\n",
      "        [0.6250, 0.7500, 0.8750, 1.0000],\n",
      "        [0.1250, 0.3750, 0.5000, 0.6250]])\n"
     ]
    },
    {
     "data": {
      "text/plain": [
       "tensor([[[[0.1250, 0.2500, 0.3750, 0.5000],\n",
       "          [0.2500, 0.3750, 0.5000, 0.6250],\n",
       "          [0.6250, 0.7500, 0.8750, 1.0000],\n",
       "          [0.1250, 0.3750, 0.5000, 0.6250]]]])"
      ]
     },
     "execution_count": 19,
     "metadata": {},
     "output_type": "execute_result"
    }
   ],
   "source": [
    "print(\n",
    "    x_train.shape,\n",
    "    x_train.shape[-2:],\n",
    "    x_train.shape[:-1],\n",
    "    x_train, \n",
    "    x_train[0,0])\n",
    "\n",
    "kk = x_train[0,0]\n",
    "kk.view(1,1,4,4)"
   ]
  },
  {
   "cell_type": "code",
   "execution_count": null,
   "id": "ba3ec4e4-caac-4e22-9d37-8acb91e11084",
   "metadata": {},
   "outputs": [],
   "source": []
  }
 ],
 "metadata": {
  "kernelspec": {
   "display_name": "Python 3 (ipykernel)",
   "language": "python",
   "name": "python3"
  },
  "language_info": {
   "codemirror_mode": {
    "name": "ipython",
    "version": 3
   },
   "file_extension": ".py",
   "mimetype": "text/x-python",
   "name": "python",
   "nbconvert_exporter": "python",
   "pygments_lexer": "ipython3",
   "version": "3.10.6"
  }
 },
 "nbformat": 4,
 "nbformat_minor": 5
}
