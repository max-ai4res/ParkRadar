{
 "cells": [
  {
   "cell_type": "markdown",
   "id": "a918e54e",
   "metadata": {},
   "source": [
    "# Creazione di una rete neurale definendo manualmente la connessione tra i diveri layer: esempi"
   ]
  },
  {
   "cell_type": "code",
   "execution_count": 37,
   "id": "4125ab63",
   "metadata": {},
   "outputs": [],
   "source": [
    "import torch\n",
    "import torch.nn as nn\n",
    "from torch.optim import SGD\n",
    "\n",
    "device = 'mps' if torch.backends.mps.is_available() else 'cpu'\n",
    "\n",
    "class MyNeuralNet(nn.Module):\n",
    "    def __init__(self):\n",
    "        super().__init__()\n",
    "        self.input_to_hidden_layer = nn.Linear(2, 8)\n",
    "        self.hidden_layer_activation = nn.ReLU()\n",
    "        self.hidden_to_output_layer = nn.Linear(8, 1)\n",
    "        \n",
    "    def forward(self, x):\n",
    "        x = self.input_to_hidden_layer(x)\n",
    "        x = self.hidden_layer_activation(x)\n",
    "        x = self.hidden_to_output_layer(x)\n",
    "        return x\n",
    "    \n",
    "\n",
    "loss_func = nn.MSELoss()\n",
    "    \n",
    "torch.manual_seed(0)\n",
    "mynet = MyNeuralNet().to(device)\n",
    "\n",
    "#for par in mynet.parameters():\n",
    "#    print(par)\n"
   ]
  },
  {
   "cell_type": "code",
   "execution_count": 38,
   "id": "7ec997c8",
   "metadata": {},
   "outputs": [],
   "source": [
    "x = [[1,2],[3,4],[5,6],[7,8]]\n",
    "y = [[3],[7],[11],[15]]\n",
    "\n",
    "X = torch.tensor(x).float().to(device)\n",
    "Y = torch.tensor(y).float().to(device)"
   ]
  },
  {
   "cell_type": "code",
   "execution_count": 39,
   "id": "3ac1b07b",
   "metadata": {},
   "outputs": [
    {
     "name": "stdout",
     "output_type": "stream",
     "text": [
      "tensor(132.0424, device='mps:0', grad_fn=<MseLossBackward0>)\n"
     ]
    }
   ],
   "source": [
    "#_call_impl(self, *input, **kwargs)\n",
    "_Y = mynet(X)\n",
    "loss_value = loss_func(_Y, Y)\n",
    "print(loss_value)"
   ]
  },
  {
   "cell_type": "code",
   "execution_count": 40,
   "id": "74254bf3",
   "metadata": {},
   "outputs": [],
   "source": [
    "opt = SGD(mynet.parameters(), 0.001)\n",
    "\n",
    "loss_history = []\n",
    "for _ in range(50):\n",
    "    opt.zero_grad()\n",
    "    loss_value = loss_func(mynet(X), Y)\n",
    "    loss_value.backward()\n",
    "    opt.step()\n",
    "    loss_history.append(loss_value.item())\n",
    "    \n",
    "#print(loss_history)"
   ]
  },
  {
   "cell_type": "code",
   "execution_count": 41,
   "id": "cb7c547e",
   "metadata": {},
   "outputs": [
    {
     "data": {
      "text/plain": [
       "Text(0, 0.5, 'loss')"
      ]
     },
     "execution_count": 41,
     "metadata": {},
     "output_type": "execute_result"
    },
    {
     "data": {
      "image/png": "[encoded data removed]",
      "text/plain": [
       "<Figure size 432x288 with 1 Axes>"
      ]
     },
     "metadata": {
      "needs_background": "light"
     },
     "output_type": "display_data"
    }
   ],
   "source": [
    "import matplotlib.pyplot as plt\n",
    "%matplotlib inline\n",
    "\n",
    "plt.plot(loss_history)\n",
    "plt.title('Loss vs Epochs')\n",
    "plt.xlabel('epoch')\n",
    "plt.ylabel('loss')"
   ]
  },
  {
   "cell_type": "code",
   "execution_count": 45,
   "id": "8dbf01ed",
   "metadata": {},
   "outputs": [],
   "source": []
  },
  {
   "cell_type": "code",
   "execution_count": 51,
   "id": "13eb2c2e",
   "metadata": {},
   "outputs": [
    {
     "name": "stdout",
     "output_type": "stream",
     "text": [
      "0.31792116165161133\n",
      "[[1, 2], [3, 4], [5, 6], [7, 8]]\n"
     ]
    }
   ],
   "source": [
    "from torch.utils.data import Dataset, DataLoader\n",
    "import time\n",
    "\n",
    "class MyDataset(Dataset):\n",
    "    def __init__(self, x, y):\n",
    "        self.x = torch.tensor(x).float().to(device)\n",
    "        self.y = torch.tensor(y).float().to(device)\n",
    "        \n",
    "    def __len__(self):\n",
    "        return len(self.x)\n",
    "    \n",
    "    def __getitem__(self, ix):\n",
    "        return self.x[ix], self.y[ix]\n",
    "    \n",
    "\n",
    "#XDS = torch.tensor(x).float().to(device)\n",
    "#YDS = torch.tensor(y).float().to(device)\n",
    "\n",
    "ds = MyDataset(x, y)\n",
    "dl = DataLoader(ds, batch_size=2, shuffle=True)\n",
    "\n",
    "mynet = MyNeuralNet().to(device)\n",
    "loss_func = nn.MSELoss()\n",
    "opt = SGD(mynet.parameters(), lr=0.001)\n",
    "\n",
    "loss_history_ds = []\n",
    "start = time.time()\n",
    "for _ in range(50):\n",
    "    for data in dl:\n",
    "        X, Y = data\n",
    "        opt.zero_grad()\n",
    "        loss_value = loss_func(mynet(X), Y)\n",
    "        loss_value.backward()\n",
    "        opt.step()\n",
    "        loss_history_ds.append(loss_value.item())\n",
    "        \n",
    "end = time.time()\n",
    "print(end-start)\n",
    "print(x)"
   ]
  },
  {
   "cell_type": "code",
   "execution_count": 52,
   "id": "25a4994e",
   "metadata": {},
   "outputs": [
    {
     "data": {
      "text/plain": [
       "[<matplotlib.lines.Line2D at 0x1697457c0>]"
      ]
     },
     "execution_count": 52,
     "metadata": {},
     "output_type": "execute_result"
    },
    {
     "data": {
      "image/png": "[encoded data removed]",
      "text/plain": [
       "<Figure size 432x288 with 1 Axes>"
      ]
     },
     "metadata": {
      "needs_background": "light"
     },
     "output_type": "display_data"
    }
   ],
   "source": [
    "plt.plot(loss_history)\n",
    "plt.plot(loss_history_ds)"
   ]
  },
  {
   "cell_type": "code",
   "execution_count": 59,
   "id": "25c0e025",
   "metadata": {},
   "outputs": [
    {
     "name": "stdout",
     "output_type": "stream",
     "text": [
      "tensor([[155.4813]], device='mps:0', grad_fn=<LinearBackward0>)\n"
     ]
    }
   ],
   "source": [
    "val_x = [[100,11]]\n",
    "\n",
    "VAL_X = torch.tensor(val_x).float().to(device)\n",
    "VAL_Y = mynet(VAL_X)\n",
    "\n",
    "print(VAL_Y)"
   ]
  },
  {
   "cell_type": "code",
   "execution_count": 62,
   "id": "fcc4a5de",
   "metadata": {},
   "outputs": [
    {
     "name": "stdout",
     "output_type": "stream",
     "text": [
      "tensor([[7., 8.],\n",
      "        [1., 2.]], device='mps:0') tensor([[ 1.8033,  0.0000,  0.0000,  0.0000, 12.6869,  0.0000,  0.0000,  0.0000],\n",
      "        [ 0.4953,  0.0000,  0.0000,  0.0000,  2.7123,  0.0000,  0.0000,  0.0000]],\n",
      "       device='mps:0', grad_fn=<ReluBackward0>) tensor([[ 1.8033e+00, -5.0860e+00, -3.8341e+00, -9.1785e+00,  1.2687e+01,\n",
      "         -1.9242e+00, -5.5779e+00, -4.5948e-01],\n",
      "        [ 4.9528e-01, -1.0593e+00, -1.2036e+00, -1.4056e+00,  2.7123e+00,\n",
      "         -2.3804e-02, -1.1027e+00, -8.1152e-05]], device='mps:0',\n",
      "       grad_fn=<LinearBackward0>)\n"
     ]
    }
   ],
   "source": [
    "input_to_hidden = mynet.input_to_hidden_layer(X)\n",
    "hidden_activation = mynet.hidden_layer_activation(input_to_hidden)\n",
    "print(X, hidden_activation, input_to_hidden)\n"
   ]
  }
 ],
 "metadata": {
  "kernelspec": {
   "display_name": "Python 3 (ipykernel)",
   "language": "python",
   "name": "python3"
  },
  "language_info": {
   "codemirror_mode": {
    "name": "ipython",
    "version": 3
   },
   "file_extension": ".py",
   "mimetype": "text/x-python",
   "name": "python",
   "nbconvert_exporter": "python",
   "pygments_lexer": "ipython3",
   "version": "3.9.12"
  }
 },
 "nbformat": 4,
 "nbformat_minor": 5
}
