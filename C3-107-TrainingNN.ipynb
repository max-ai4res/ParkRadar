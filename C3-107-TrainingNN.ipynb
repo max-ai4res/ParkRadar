{
 "cells": [
  {
   "cell_type": "code",
   "execution_count": 35,
   "id": "481b453e",
   "metadata": {
    "id": "481b453e"
   },
   "outputs": [
    {
     "name": "stdout",
     "output_type": "stream",
     "text": [
      "MPS avaiable: True, build with: True\n",
      "Device: cpu\n",
      "Torch version: 1.13.0\n"
     ]
    }
   ],
   "source": [
    "import datetime\n",
    "from torch.utils.data import Dataset, DataLoader\n",
    "import torch\n",
    "import torch.nn as nn\n",
    "import numpy as np\n",
    "import matplotlib.pyplot as plt\n",
    "from torchvision import datasets\n",
    "import random\n",
    "%matplotlib inline\n",
    "\n",
    "print(f'MPS avaiable: {torch.backends.mps.is_available()}, build with: {torch.backends.mps.is_built()}')\n",
    "\n",
    "device = 'mps' if torch.backends.mps.is_available() else \\\n",
    "  'cuda' if torch.backends.cuda.is_available() else \\\n",
    "  'cpu'\n",
    "\n",
    "device = 'cpu'\n",
    "print(f'Device: {device}')\n",
    "print(f'Torch version: {torch.__version__}')\n",
    "random.seed(0)\n",
    "datafolder = './data/FMNIST'\n",
    "\n",
    "fmnist = datasets.FashionMNIST(datafolder, download=True, train=True)\n",
    "\n",
    "tr_images = fmnist.data\n",
    "tr_targets = fmnist.targets\n",
    "\n",
    "val_fmnist = datasets.FashionMNIST(datafolder, download=True, train=False)\n",
    "val_images = val_fmnist.data\n",
    "val_targets = val_fmnist.targets"
   ]
  },
  {
   "cell_type": "code",
   "execution_count": 36,
   "id": "cc7cac4c",
   "metadata": {
    "id": "cc7cac4c"
   },
   "outputs": [],
   "source": [
    "class FMINSTDataset(Dataset):\n",
    "    def __init__(self, x, y):\n",
    "        #x = (x.float() -128) / 255\n",
    "        x = x.float() / 255\n",
    "        x = x.view(-1, 28*28)\n",
    "        self.x, self.y = x, y\n",
    "        \n",
    "    def __getitem__(self, ix):\n",
    "        x, y = self.x[ix], self.y[ix]\n",
    "        return x.to(device), y.to(device)\n",
    "    \n",
    "    def __len__(self):\n",
    "        return len(self.x)"
   ]
  },
  {
   "cell_type": "code",
   "execution_count": 79,
   "id": "082fdec3-df16-4147-94bb-d9436f8eabb2",
   "metadata": {},
   "outputs": [],
   "source": [
    "# possiamo ottenere il model creando una rete ad N livelli sequenziale\n",
    "# sfruttando nn.Sequential oppure in modo costruttivo diretto derivando\n",
    "# da nn.Module e vedere in dettaglio cosa avviene su ogni layer\n",
    "def get_model_direct(learning_rate=1e-3):\n",
    "    model = nn.Sequential(\n",
    "        nn.Dropout(0.25),\n",
    "        nn.Linear(28*28, 1000),\n",
    "        nn.BatchNorm1d(1000),\n",
    "        nn.ReLU(),\n",
    "        nn.Dropout(0.25),\n",
    "        nn.Linear(1000, 10)\n",
    "        ).to(device)\n",
    "    loss_fn = nn.CrossEntropyLoss()\n",
    "    optimizer = get_optimizer(model, learning_rate)\n",
    "    return model, loss_fn, optimizer\n",
    "\n",
    "\n",
    "def get_model_by_construction(learning_rate=1e-3):\n",
    "    class Neuralnet(nn.Module):\n",
    "        def __init__(self):\n",
    "            super().__init__()\n",
    "            self.input_to_hidden_dropout = nn.Dropout(0.25)\n",
    "            self.input_to_hidden_layer = nn.Linear(28*28, 1000)\n",
    "            self.batch_norm = nn.BatchNorm1d(1000)\n",
    "            self.hidden_layer_activation = nn.ReLU()\n",
    "            self.hidden_to_output_dropout = nn.Dropout(0.25)\n",
    "            self.hidden_to_output_layer = nn.Linear(1000, 10)\n",
    "        def forward(self, x):\n",
    "            x = self.input_to_hidden_dropout(x)\n",
    "            x = self.input_to_hidden_layer(x)\n",
    "            x = self.batch_norm(x)\n",
    "            x = self.hidden_layer_activation(x)\n",
    "            x = self.hidden_to_output_dropout(x)\n",
    "            x = self.hidden_to_output_layer(x)\n",
    "            return x\n",
    "    model = Neuralnet().to(device)\n",
    "    loss_fn = nn.CrossEntropyLoss()\n",
    "    optimizer = get_optimizer(model, learning_rate)\n",
    "    return model, loss_fn, optimizer\n",
    "\n",
    "#get_model = get_model_direct\n",
    "get_model = get_model_by_construction\n"
   ]
  },
  {
   "cell_type": "code",
   "execution_count": 89,
   "id": "d69a9c7b-de4c-471e-a9d1-05e30799daa1",
   "metadata": {},
   "outputs": [],
   "source": [
    "from torch.optim import SGD, Adam\n",
    "\n",
    "def get_optimizer(model, learning_rate):\n",
    "    return Adam(model.parameters(), lr=learning_rate)\n",
    "\n",
    "def train_batch(x, y, model, opt, loss_fn):\n",
    "    model.train()\n",
    "    prediction = model(x)\n",
    "    #l_regularization, l_gamma, l_norm_type = 0, 0.0001, 1 ## Redularization L1\n",
    "    l_regularization, l_gamma, l_norm_type = 0, 0.01, 2 ## Redularization L2\n",
    "    for p in model.parameters():\n",
    "        l_regularization += torch.norm(p, l_norm_type)\n",
    "    batch_loss = loss_fn(prediction, y) + l_gamma * l_regularization\n",
    "    batch_loss.backward()\n",
    "    optimizer.step()\n",
    "    optimizer.zero_grad()\n",
    "    return batch_loss.item()"
   ]
  },
  {
   "cell_type": "code",
   "execution_count": 90,
   "id": "847298db",
   "metadata": {
    "id": "847298db"
   },
   "outputs": [],
   "source": [
    "def accuracy(x, y, model):\n",
    "    model.eval()\n",
    "    with torch.no_grad():\n",
    "        prediction = model(x)\n",
    "    max_values, argmaxes = prediction.max(-1)\n",
    "    is_correct = argmaxes == y\n",
    "    return is_correct.cpu().numpy().tolist()\n"
   ]
  },
  {
   "cell_type": "code",
   "execution_count": 91,
   "id": "314e5084-7cd5-4888-9765-d60371314339",
   "metadata": {},
   "outputs": [],
   "source": [
    "def get_data():\n",
    "    train = FMINSTDataset(tr_images, tr_targets)\n",
    "    trn_dl = DataLoader(train, batch_size=32, shuffle=True)\n",
    "    val_data = FMINSTDataset(val_images, val_targets)\n",
    "    val_dl = DataLoader(val_data, batch_size=len(val_data), shuffle=False)\n",
    "    return trn_dl, val_dl\n"
   ]
  },
  {
   "cell_type": "code",
   "execution_count": 92,
   "id": "7e92195d-088b-49c0-8c1d-3ae77fb4d43f",
   "metadata": {},
   "outputs": [],
   "source": [
    "@torch.no_grad()\n",
    "def val_loss(x, y, model):\n",
    "    model.eval()\n",
    "    prediction = model(x)\n",
    "    val_loss = loss_fn(prediction, y)\n",
    "    return val_loss.item()\n"
   ]
  },
  {
   "cell_type": "code",
   "execution_count": 93,
   "id": "47c4852c-119f-4e9f-9fe1-3015ca49a55e",
   "metadata": {},
   "outputs": [
    {
     "name": "stdout",
     "output_type": "stream",
     "text": [
      "\n",
      "Epoch: 0 []\n",
      "\n",
      "\tTraining cicle: .........................................................\n",
      "\tAccuracy cicle on training data: .........................................................\n",
      "\tAccuracy cicle on validation data: . current accuracy 0.8463\n",
      "Epoch: 1 []\n",
      "\n",
      "\tTraining cicle: .........................................................\n",
      "\tAccuracy cicle on training data: .........................................................\n",
      "\tAccuracy cicle on validation data: .Epoch 00002: reducing learning rate of group 0 to 5.0000e-04.\n",
      " current accuracy 0.8457\n",
      "Epoch: 2 []\n",
      "\n",
      "\tTraining cicle: .........................................................\n",
      "\tAccuracy cicle on training data: .........................................................\n",
      "\tAccuracy cicle on validation data: .Epoch 00003: reducing learning rate of group 0 to 2.5000e-04.\n",
      " current accuracy 0.8569\n",
      "Epoch: 3 []\n",
      "\n",
      "\tTraining cicle: .........................................................\n",
      "\tAccuracy cicle on training data: .........................................................\n",
      "\tAccuracy cicle on validation data: .Epoch 00004: reducing learning rate of group 0 to 1.2500e-04.\n",
      " current accuracy 0.8636\n",
      "Epoch: 4 []\n",
      "\n",
      "\tTraining cicle: .........................................................\n",
      "\tAccuracy cicle on training data: .........................................................\n",
      "\tAccuracy cicle on validation data: .Epoch 00005: reducing learning rate of group 0 to 6.2500e-05.\n",
      " current accuracy 0.86970:00:50.589574\n"
     ]
    }
   ],
   "source": [
    "from torch import optim\n",
    "\n",
    "N_EPOCHS = 5\n",
    "trn_dl, val_dl = get_data()\n",
    "model, loss_fn, optimizer = get_model(1e-3)\n",
    "train_losses, train_accuracies = [], []\n",
    "val_losses, val_accuracies = [], []\n",
    "opt_scheduler = optim.lr_scheduler.ReduceLROnPlateau(optimizer,\n",
    "    factor=0.5, patience=0, threshold=True, min_lr=1e-5, threshold_mode='abs', verbose=True)\n",
    "\n",
    "t_start = datetime.datetime.now()\n",
    "\n",
    "for epoch in range(N_EPOCHS):\n",
    "    print(f'\\nEpoch: {epoch} []')\n",
    "    train_epoch_losses, train_epoch_accuracies = [], []\n",
    "    print('\\n\\tTraining cicle: ', end='')\n",
    "    for ix, batch in enumerate(iter(trn_dl)):\n",
    "        print('.', end='') if ix%33 == 0 else \"\"\n",
    "        x, y = batch\n",
    "        #print(f'\\tTraing cicle: ix  = {ix}')\n",
    "        #print(f'\\tTraing cicle: x   = {x}')\n",
    "        #print(f'\\tTraing cicle: y   = {y}')\n",
    "        batch_loss = train_batch(x, y, model, optimizer, loss_fn)\n",
    "        train_epoch_losses.append(batch_loss)\n",
    "        #if ix>100: break\n",
    "    \n",
    "    train_epoch_loss = np.array(train_epoch_losses).mean()\n",
    "        \n",
    "    print('\\n\\tAccuracy cicle on training data: ', end='')\n",
    "    for ix, batch in enumerate(iter(trn_dl)):\n",
    "        print('.', end='') if ix%33 == 0 else \"\"\n",
    "        x, y = batch\n",
    "        #print(f'\\tAccuracy cicle: ix    = {ix}')\n",
    "        #print(f'\\tAccuracy cicle: batch = {batch}')\n",
    "        is_correct = accuracy(x, y, model)\n",
    "        train_epoch_accuracies.extend(is_correct)\n",
    "        #if ix>100: break\n",
    "    train_epoch_accuracy = np.mean(train_epoch_accuracies)\n",
    "    \n",
    "    print('\\n\\tAccuracy cicle on validation data: ', end='')\n",
    "    for ix, batch in enumerate(iter(val_dl)):\n",
    "        print('.', end='') if ix%33 == 0 else \"\"\n",
    "        x, y = batch\n",
    "        val_is_correct = accuracy(x, y, model)\n",
    "        validation_loss = val_loss(x, y, model)\n",
    "        opt_scheduler.step(validation_loss)\n",
    "        \n",
    "    val_epoch_accuracy = np.mean(val_is_correct)    \n",
    "    print(f' current accuracy {val_epoch_accuracy}', end='')\n",
    "    \n",
    "    train_losses.append(train_epoch_loss)\n",
    "    train_accuracies.append(train_epoch_accuracy)\n",
    "    val_losses.append(validation_loss)\n",
    "    val_accuracies.append(val_epoch_accuracy)\n",
    "\n",
    "t_elapsed = datetime.datetime.now() - t_start\n",
    "print(t_elapsed)\n",
    "\n",
    "# 32/5 [ADAM] --> 31.2s accuracy >~85%\n",
    "# 32/5 [SGD]  --> 17.3s accuracy <~85%\n",
    "# 32/10 [SGD]  --> 35.8s accuracy >~85%\n",
    "# 32/10 [ADAM]  --> 61.9s accuracy <~85% jumpy!\n",
    "# 32/5 [ADAM] --> 29.67s accuracy 89% - with lr optimizer\n",
    "# 32/5 [ADAM] --> 39.26s accuracy 89% - with lr optimizer & batc_norm\n",
    "# 32/5 [ADAM] --> 41.26s accuracy ~88% - with lr optimizer & batc_norm & dropout\n",
    "# 32/5 [ADAM] --> 50.80s accuracy ~86% - with lr optimizer & batc_norm & dropout & L1\n",
    "# 32/5 [ADAM] --> 50.59s accuracy ~87% - with lr optimizer & batc_norm & dropout & L2"
   ]
  },
  {
   "cell_type": "code",
   "execution_count": 71,
   "id": "37dacdfa",
   "metadata": {
    "colab": {
     "base_uri": "https://localhost:8080/"
    },
    "id": "37dacdfa",
    "outputId": "c0714fcd-ae7b-4db2-c042-300a1eb3569c"
   },
   "outputs": [
    {
     "name": "stdout",
     "output_type": "stream",
     "text": [
      "Platform : macOS-12.6-arm64-arm-64bit\n",
      "Device   : cpu\n",
      "Torch MPS: True\n",
      "[0.42949727177619934, 0.3929639756679535, 0.3495084047317505, 0.333807110786438, 0.32696229219436646]\n",
      "[0.8416, 0.8572, 0.8717, 0.8793, 0.8826]\n",
      "3.51 ms ± 28.6 µs per loop (mean ± std. dev. of 7 runs, 100 loops each)\n"
     ]
    }
   ],
   "source": [
    "import platform\n",
    "print(f'Platform : {platform.platform()}')\n",
    "print(f'Device   : {device}')\n",
    "print(f'Torch MPS: {torch.has_mps}')\n",
    "print(val_losses)\n",
    "print(val_accuracies)\n",
    "\n",
    "#[0.8396197241942088, 0.5353731442213059, 0.48255981571276985, 0.45433049147129057, 0.4355701746821404]\n",
    "#[0.7962333333333333, 0.8300333333333333, 0.8386, 0.8508166666666667, 0.8534833333333334]\n",
    "model, loss_fn, optimizer = get_model()\n",
    "trn_dl, val_dl = get_data()\n",
    "x, y = next(iter(trn_dl))\n",
    "%timeit train_batch(x, y, model, optimizer, loss_fn)"
   ]
  },
  {
   "cell_type": "code",
   "execution_count": 72,
   "id": "40005418",
   "metadata": {
    "id": "40005418",
    "outputId": "7913b2ca-ec3e-4c58-e8aa-f25a310270a3"
   },
   "outputs": [
    {
     "data": {
      "image/png": "[encoded data removed]",
      "text/plain": [
       "<Figure size 432x288 with 1 Axes>"
      ]
     },
     "metadata": {
      "needs_background": "light"
     },
     "output_type": "display_data"
    },
    {
     "name": "stderr",
     "output_type": "stream",
     "text": [
      "/var/folders/44/sqmxmlfx5k383gls301l5s100000gn/T/ipykernel_48295/3276711084.py:24: UserWarning: FixedFormatter should only be used together with FixedLocator\n",
      "  plt.gca().set_yticklabels(['{:.0f}%'.format(x*100) for x in plt.gca().get_yticks().tolist()])\n"
     ]
    },
    {
     "data": {
      "image/png": "[encoded data removed]",
      "text/plain": [
       "<Figure size 432x288 with 1 Axes>"
      ]
     },
     "metadata": {
      "needs_background": "light"
     },
     "output_type": "display_data"
    }
   ],
   "source": [
    "import matplotlib.ticker as mticker\n",
    "\n",
    "epochs = np.arange(len(train_losses)) + 1\n",
    "\n",
    "plt.subplot(211)\n",
    "plt.title('Training and validation loss when batch size is 32')\n",
    "plt.plot(epochs, train_losses, 'bo', label='Training loss')\n",
    "plt.plot(epochs, val_losses, 'r', label='Validation loss')\n",
    "plt.gca().xaxis.set_major_locator(mticker.MultipleLocator(1))\n",
    "plt.xlabel('Epochs')\n",
    "plt.ylabel('Loss')\n",
    "plt.legend()\n",
    "plt.grid('off')\n",
    "plt.show()\n",
    "plt.subplot(212)\n",
    "plt.title('Training and Validation accuracy when batch size is 32')\n",
    "plt.plot(epochs, train_accuracies, 'bo', label='Training Accuracy')\n",
    "plt.plot(epochs, val_accuracies, 'r', label='Validation Accuracy')\n",
    "plt.gca().xaxis.set_major_locator(mticker.MultipleLocator(1))\n",
    "plt.xlabel('Epochs')\n",
    "plt.ylabel('Accuracy')\n",
    "plt.legend()\n",
    "plt.grid('off')\n",
    "plt.gca().set_yticklabels(['{:.0f}%'.format(x*100) for x in plt.gca().get_yticks().tolist()])\n",
    "plt.legend()\n",
    "plt.grid('off')\n",
    "plt.show()"
   ]
  },
  {
   "cell_type": "code",
   "execution_count": 11,
   "id": "07c46b58",
   "metadata": {
    "id": "07c46b58"
   },
   "outputs": [
    {
     "data": {
      "image/png": "[encoded data removed]",
      "text/plain": [
       "<Figure size 432x288 with 1 Axes>"
      ]
     },
     "metadata": {
      "needs_background": "light"
     },
     "output_type": "display_data"
    },
    {
     "data": {
      "image/png": "[encoded data removed]",
      "text/plain": [
       "<Figure size 432x288 with 1 Axes>"
      ]
     },
     "metadata": {
      "needs_background": "light"
     },
     "output_type": "display_data"
    },
    {
     "data": {
      "image/png": "[encoded data removed]",
      "text/plain": [
       "<Figure size 432x288 with 1 Axes>"
      ]
     },
     "metadata": {
      "needs_background": "light"
     },
     "output_type": "display_data"
    },
    {
     "data": {
      "image/png": "[encoded data removed]",
      "text/plain": [
       "<Figure size 432x288 with 1 Axes>"
      ]
     },
     "metadata": {
      "needs_background": "light"
     },
     "output_type": "display_data"
    }
   ],
   "source": [
    "#Plot pmodel parameters distribution\n",
    "\n",
    "for ix, par in enumerate(model.parameters()):\n",
    "    if(ix==0):\n",
    "        plt.hist(par.cpu().detach().numpy().flatten())\n",
    "        plt.title('Ditribution of weight in input-to-hidden')\n",
    "        plt.show()\n",
    "    if(ix==1):\n",
    "        plt.hist(par.cpu().detach().numpy().flatten())\n",
    "        plt.title('Ditribution of bias in input-to-hidden')\n",
    "        plt.show()\n",
    "    if(ix==2):\n",
    "        plt.hist(par.cpu().detach().numpy().flatten())\n",
    "        plt.title('Ditribution of weight in hidden-to-out')\n",
    "        plt.show()\n",
    "    if(ix==3):\n",
    "        plt.hist(par.cpu().detach().numpy().flatten())\n",
    "        plt.title('Ditribution of bias in hidden-to-out')\n",
    "        plt.show()\n",
    "        "
   ]
  }
 ],
 "metadata": {
  "colab": {
   "provenance": []
  },
  "kernelspec": {
   "display_name": "Python 3 (ipykernel)",
   "language": "python",
   "name": "python3"
  },
  "language_info": {
   "codemirror_mode": {
    "name": "ipython",
    "version": 3
   },
   "file_extension": ".py",
   "mimetype": "text/x-python",
   "name": "python",
   "nbconvert_exporter": "python",
   "pygments_lexer": "ipython3",
   "version": "3.9.12"
  },
  "toc-autonumbering": true,
  "toc-showcode": true,
  "toc-showmarkdowntxt": true
 },
 "nbformat": 4,
 "nbformat_minor": 5
}
