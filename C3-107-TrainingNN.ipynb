{
 "cells": [
  {
   "cell_type": "code",
   "execution_count": 46,
   "id": "481b453e",
   "metadata": {
    "id": "481b453e"
   },
   "outputs": [
    {
     "name": "stdout",
     "output_type": "stream",
     "text": [
      "Device: mps\n",
      "Torch version: 1.13.0.dev20221002\n"
     ]
    }
   ],
   "source": [
    "from torch.utils.data import Dataset, DataLoader\n",
    "import torch\n",
    "import torch.nn as nn\n",
    "import numpy as np\n",
    "import matplotlib.pyplot as plt\n",
    "from torchvision import datasets\n",
    "import random\n",
    "%matplotlib inline\n",
    "\n",
    "device = 'mps' if torch.backends.mps.is_available() else \\\n",
    "  'cuda' if torch.backends.cuda.is_available() else \\\n",
    "  'cpu'\n",
    "\n",
    "device = 'cpu'\n",
    "print(f'Device: {device}')\n",
    "print(f'Torch version: {torch.__version__}')\n",
    "random.seed(0)\n",
    "datafolder = './data/FMNIST'\n",
    "\n",
    "fmnist = datasets.FashionMNIST(datafolder, download=True, train=True)\n",
    "\n",
    "tr_images = fmnist.data.to(device)\n",
    "tr_targets = fmnist.targets.to(device)"
   ]
  },
  {
   "cell_type": "code",
   "execution_count": 47,
   "id": "cc7cac4c",
   "metadata": {
    "id": "cc7cac4c"
   },
   "outputs": [],
   "source": [
    "class FMINSTDataset(Dataset):\n",
    "    def __init__(self, x, y):\n",
    "        #x = (x.float() -128) / 255\n",
    "        x = x.float() / 255\n",
    "        x = x.view(-1, 28*28)\n",
    "        self.x, self.y = x, y\n",
    "        \n",
    "    def __getitem__(self, ix):\n",
    "        x, y = self.x[ix], self.y[ix]\n",
    "        return x.to(device), y.to(device)\n",
    "    \n",
    "    def __len__(self):\n",
    "        return len(self.x)\n",
    "    \n",
    "def get_data():\n",
    "    train = FMINSTDataset(tr_images, tr_targets)\n",
    "    trn_dl = DataLoader(train, batch_size=32, shuffle=True)\n",
    "    return trn_dl\n",
    "\n",
    "from torch.optim import SGD\n",
    "\n",
    "def get_model():\n",
    "    model = nn.Sequential(\n",
    "        nn.Linear(28*28, 1000),\n",
    "        nn.ReLU(),\n",
    "        nn.Linear(1000, 10)\n",
    "        ).to(device)\n",
    "    loss_fn = nn.CrossEntropyLoss()\n",
    "    optimizer = SGD(model.parameters(), lr=1e-2)\n",
    "    return model, loss_fn, optimizer\n",
    "\n",
    "def train_batch(x, y, model, opt, loss_fn):\n",
    "    model.train()\n",
    "    prediction = model(x)\n",
    "    batch_loss = loss_fn(prediction, y)\n",
    "    batch_loss.backward()\n",
    "    optimizer.step()\n",
    "    optimizer.zero_grad()\n",
    "    return batch_loss.item()"
   ]
  },
  {
   "cell_type": "code",
   "execution_count": 48,
   "id": "847298db",
   "metadata": {
    "id": "847298db"
   },
   "outputs": [],
   "source": [
    "@torch.no_grad()\n",
    "def accuracy(x, y, model):\n",
    "    model.eval()\n",
    "    prediction = model(x)\n",
    "    max_values, argmaxes = prediction.max(-1)\n",
    "    is_correct = argmaxes == y\n",
    "    return is_correct.cpu().numpy().tolist()\n"
   ]
  },
  {
   "cell_type": "code",
   "execution_count": 49,
   "id": "47c4852c-119f-4e9f-9fe1-3015ca49a55e",
   "metadata": {},
   "outputs": [
    {
     "name": "stdout",
     "output_type": "stream",
     "text": [
      "\n",
      "Epoch: 0\n",
      "\tTraining cicle: ....................................."
     ]
    },
    {
     "ename": "KeyboardInterrupt",
     "evalue": "",
     "output_type": "error",
     "traceback": [
      "\u001b[0;31m---------------------------------------------------------------------------\u001b[0m",
      "\u001b[0;31mKeyboardInterrupt\u001b[0m                         Traceback (most recent call last)",
      "Input \u001b[0;32mIn [49]\u001b[0m, in \u001b[0;36m<cell line: 5>\u001b[0;34m()\u001b[0m\n\u001b[1;32m     11\u001b[0m x, y \u001b[38;5;241m=\u001b[39m batch\n\u001b[1;32m     12\u001b[0m \u001b[38;5;66;03m#print(f'\\tTraing cicle: ix  = {ix}')\u001b[39;00m\n\u001b[1;32m     13\u001b[0m \u001b[38;5;66;03m#print(f'\\tTraing cicle: x   = {x}')\u001b[39;00m\n\u001b[1;32m     14\u001b[0m \u001b[38;5;66;03m#print(f'\\tTraing cicle: y   = {y}')\u001b[39;00m\n\u001b[0;32m---> 15\u001b[0m batch_loss \u001b[38;5;241m=\u001b[39m \u001b[43mtrain_batch\u001b[49m\u001b[43m(\u001b[49m\u001b[43mx\u001b[49m\u001b[43m,\u001b[49m\u001b[43m \u001b[49m\u001b[43my\u001b[49m\u001b[43m,\u001b[49m\u001b[43m \u001b[49m\u001b[43mmodel\u001b[49m\u001b[43m,\u001b[49m\u001b[43m \u001b[49m\u001b[43moptimizer\u001b[49m\u001b[43m,\u001b[49m\u001b[43m \u001b[49m\u001b[43mloss_fn\u001b[49m\u001b[43m)\u001b[49m\n\u001b[1;32m     16\u001b[0m epoch_losses\u001b[38;5;241m.\u001b[39mappend(batch_loss)\n\u001b[1;32m     17\u001b[0m \u001b[38;5;66;03m#if ix>100: break\u001b[39;00m\n",
      "Input \u001b[0;32mIn [47]\u001b[0m, in \u001b[0;36mtrain_batch\u001b[0;34m(x, y, model, opt, loss_fn)\u001b[0m\n\u001b[1;32m     37\u001b[0m optimizer\u001b[38;5;241m.\u001b[39mstep()\n\u001b[1;32m     38\u001b[0m optimizer\u001b[38;5;241m.\u001b[39mzero_grad()\n\u001b[0;32m---> 39\u001b[0m \u001b[38;5;28;01mreturn\u001b[39;00m \u001b[43mbatch_loss\u001b[49m\u001b[38;5;241;43m.\u001b[39;49m\u001b[43mitem\u001b[49m\u001b[43m(\u001b[49m\u001b[43m)\u001b[49m\n",
      "\u001b[0;31mKeyboardInterrupt\u001b[0m: "
     ]
    }
   ],
   "source": [
    "model, loss_fn, optimizer = get_model()\n",
    "trn_dl = get_data()\n",
    "losses, accuracies = [], []\n",
    "\n",
    "for epoch in range(5):\n",
    "    print(f'\\nEpoch: {epoch}', end='')\n",
    "    epoch_losses, epoch_accuracies = [], []\n",
    "    print('\\n\\tTraining cicle: ', end='')\n",
    "    for ix, batch in enumerate(iter(trn_dl)):\n",
    "        print('.', end='') if ix%33 == 0 else \"\"\n",
    "        x, y = batch\n",
    "        #print(f'\\tTraing cicle: ix  = {ix}')\n",
    "        #print(f'\\tTraing cicle: x   = {x}')\n",
    "        #print(f'\\tTraing cicle: y   = {y}')\n",
    "        batch_loss = train_batch(x, y, model, optimizer, loss_fn)\n",
    "        epoch_losses.append(batch_loss)\n",
    "        #if ix>100: break\n",
    "    \n",
    "    epoch_loss = np.array(epoch_losses).mean()\n",
    "        \n",
    "    print('\\n\\tAccuracy cicle: ', end='')\n",
    "    for ix, batch in enumerate(iter(trn_dl)):\n",
    "        print('.', end='') if ix%33 == 0 else \"\"\n",
    "        x, y = batch\n",
    "        #print(f'\\tAccuracy cicle: ix    = {ix}')\n",
    "        #print(f'\\tAccuracy cicle: batch = {batch}')\n",
    "        is_correct = accuracy(x, y, model)\n",
    "        epoch_accuracies.extend(is_correct)\n",
    "        #if ix>100: break\n",
    "            \n",
    "    epoch_accuracy = np.mean(epoch_accuracies)\n",
    "    losses.append(epoch_loss)\n",
    "    accuracies.append(epoch_accuracy)"
   ]
  },
  {
   "cell_type": "code",
   "execution_count": 40,
   "id": "37dacdfa",
   "metadata": {
    "colab": {
     "base_uri": "https://localhost:8080/"
    },
    "id": "37dacdfa",
    "outputId": "c0714fcd-ae7b-4db2-c042-300a1eb3569c"
   },
   "outputs": [
    {
     "name": "stdout",
     "output_type": "stream",
     "text": [
      "Platform : macOS-12.6-arm64-arm-64bit\n",
      "Device   : cpu\n",
      "Torch MPS: True\n",
      "[0.8485401981830597, 0.5382654979626338, 0.4834044220368067, 0.45544177660942076, 0.43613685299952826]\n",
      "[0.8089833333333334, 0.8280166666666666, 0.8409, 0.8503166666666667, 0.8556]\n",
      "1.25 ms ± 3.42 µs per loop (mean ± std. dev. of 7 runs, 1,000 loops each)\n"
     ]
    }
   ],
   "source": [
    "import platform\n",
    "print(f'Platform : {platform.platform()}')\n",
    "print(f'Device   : {device}')\n",
    "print(f'Torch MPS: {torch.has_mps}')\n",
    "print(losses)\n",
    "print(accuracies)\n",
    "\n",
    "#[0.8396197241942088, 0.5353731442213059, 0.48255981571276985, 0.45433049147129057, 0.4355701746821404]\n",
    "#[0.7962333333333333, 0.8300333333333333, 0.8386, 0.8508166666666667, 0.8534833333333334]\n",
    "model, loss_fn, optimizer = get_model()\n",
    "trn_dl = get_data()\n",
    "x, y = next(iter(trn_dl))\n",
    "%timeit train_batch(x, y, model, optimizer, loss_fn)"
   ]
  },
  {
   "cell_type": "code",
   "execution_count": 34,
   "id": "633fe7e8-8b8b-4ed5-bbab-ac0b2df98ad3",
   "metadata": {},
   "outputs": [
    {
     "name": "stdout",
     "output_type": "stream",
     "text": [
      "tensor([[0.2419, 0.7571, 0.8596, 0.1669],\n",
      "        [0.4263, 0.3741, 0.9394, 0.9966],\n",
      "        [0.9433, 0.7771, 0.7811, 0.4204]])\n",
      "torch.return_types.max(\n",
      "values=tensor([0.8596, 0.9966, 0.9433]),\n",
      "indices=tensor([2, 3, 0]))\n",
      "torch.return_types.max(\n",
      "values=tensor([0.8596, 0.9966, 0.9433]),\n",
      "indices=tensor([2, 3, 0]))\n"
     ]
    }
   ],
   "source": [
    "tt = torch.rand(3,4)\n",
    "print(tt);\n",
    "\n",
    "print(tt.max(1))\n",
    "print(tt.max(-1))\n"
   ]
  },
  {
   "cell_type": "code",
   "execution_count": 35,
   "id": "40005418",
   "metadata": {
    "id": "40005418",
    "outputId": "7913b2ca-ec3e-4c58-e8aa-f25a310270a3"
   },
   "outputs": [
    {
     "name": "stderr",
     "output_type": "stream",
     "text": [
      "/var/folders/44/sqmxmlfx5k383gls301l5s100000gn/T/ipykernel_79989/3339653493.py:10: UserWarning: FixedFormatter should only be used together with FixedLocator\n",
      "  plt.gca().set_yticklabels(['{:.0f}%'.format(x*100) for x in plt.gca().get_yticks().tolist()])\n"
     ]
    },
    {
     "data": {
      "text/plain": [
       "<matplotlib.legend.Legend at 0x13705c340>"
      ]
     },
     "execution_count": 35,
     "metadata": {},
     "output_type": "execute_result"
    },
    {
     "data": {
      "image/png": "[encoded data removed]",
      "text/plain": [
       "<Figure size 1440x360 with 2 Axes>"
      ]
     },
     "metadata": {
      "needs_background": "light"
     },
     "output_type": "display_data"
    }
   ],
   "source": [
    "epochs = np.arange(5) + 1\n",
    "plt.figure(figsize=(20,5))\n",
    "plt.subplot(121)\n",
    "plt.title('Loss value over increasing epochs')\n",
    "plt.plot(epochs, losses, label='Training Loss')\n",
    "plt.legend()\n",
    "plt.subplot(122)\n",
    "plt.title('Accuracy value over increasing epochs')\n",
    "plt.plot(epochs, accuracies, label='Training Accuracy')\n",
    "plt.gca().set_yticklabels(['{:.0f}%'.format(x*100) for x in plt.gca().get_yticks().tolist()])\n",
    "plt.legend()"
   ]
  },
  {
   "cell_type": "code",
   "execution_count": null,
   "id": "07c46b58",
   "metadata": {
    "id": "07c46b58"
   },
   "outputs": [],
   "source": []
  }
 ],
 "metadata": {
  "colab": {
   "provenance": []
  },
  "kernelspec": {
   "display_name": "Python 3 (ipykernel)",
   "language": "python",
   "name": "python3"
  },
  "language_info": {
   "codemirror_mode": {
    "name": "ipython",
    "version": 3
   },
   "file_extension": ".py",
   "mimetype": "text/x-python",
   "name": "python",
   "nbconvert_exporter": "python",
   "pygments_lexer": "ipython3",
   "version": "3.9.12"
  },
  "toc-autonumbering": true,
  "toc-showcode": true,
  "toc-showmarkdowntxt": true
 },
 "nbformat": 4,
 "nbformat_minor": 5
}
