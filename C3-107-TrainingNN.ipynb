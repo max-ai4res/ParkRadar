{
 "cells": [
  {
   "cell_type": "code",
   "execution_count": 56,
   "id": "481b453e",
   "metadata": {
    "id": "481b453e"
   },
   "outputs": [
    {
     "name": "stdout",
     "output_type": "stream",
     "text": [
      "Device: cpu\n"
     ]
    }
   ],
   "source": [
    "from torch.utils.data import Dataset, DataLoader\n",
    "import torch\n",
    "import torch.nn as nn\n",
    "import numpy as np\n",
    "import matplotlib.pyplot as plt\n",
    "from torchvision import datasets\n",
    "%matplotlib inline\n",
    "\n",
    "device = 'mps' if torch.backends.mps.is_available() else \\\n",
    "  'cuda' if torch.backends.cuda.is_available() else \\\n",
    "  'cpu'\n",
    "\n",
    "device = 'cpu'\n",
    "\n",
    "print(f'Device: {device}')\n",
    "#device = torch.device(device)\n",
    "datafolder = './data/FMNIST'\n",
    "\n",
    "fmnist = datasets.FashionMNIST(datafolder, download=True, train=True)\n",
    "\n",
    "tr_images = fmnist.data\n",
    "tr_targets = fmnist.targets"
   ]
  },
  {
   "cell_type": "code",
   "execution_count": 76,
   "id": "cc7cac4c",
   "metadata": {
    "id": "cc7cac4c"
   },
   "outputs": [],
   "source": [
    "class FMINSTDataset(Dataset):\n",
    "    def __init__(self, x, y):\n",
    "        #x = (x.float() -128) / 255\n",
    "        x = x.float() / 255\n",
    "        x = x.view(-1, 28*28)\n",
    "        self.x, self.y = x, y\n",
    "        \n",
    "    def __getitem__(self, ix):\n",
    "        x, y = self.x[ix], self.y[ix]\n",
    "        return x.to(device), y.to(device)\n",
    "    \n",
    "    def __len__(self):\n",
    "        return len(self.x)\n",
    "    \n",
    "def get_data():\n",
    "    train = FMINSTDataset(tr_images, tr_targets)\n",
    "    trn_dl = DataLoader(train, batch_size=32, shuffle=True)\n",
    "    return trn_dl\n",
    "\n",
    "from torch.optim import SGD\n",
    "\n",
    "def get_model():\n",
    "    model = nn.Sequential(\n",
    "        nn.Linear(28*28, 1000),\n",
    "        nn.ReLU(),\n",
    "        nn.Linear(1000, 10)\n",
    "        ).to(device)\n",
    "    loss_fn = nn.CrossEntropyLoss()\n",
    "    optimizer = SGD(model.parameters(), lr=1e-2)\n",
    "    return model, loss_fn, optimizer\n",
    "\n",
    "def train_batch(x, y, model, opt, loss_fn):\n",
    "    model.train()\n",
    "    prediction = model(x)\n",
    "    batch_loss = loss_fn(prediction, y)\n",
    "    batch_loss.backward()\n",
    "    optimizer.step()\n",
    "    optimizer.zero_grad()\n",
    "    return batch_loss.item()"
   ]
  },
  {
   "cell_type": "code",
   "execution_count": 77,
   "id": "847298db",
   "metadata": {
    "id": "847298db"
   },
   "outputs": [],
   "source": [
    "@torch.no_grad()\n",
    "def accuracy(x, y, model):\n",
    "    model.eval()\n",
    "    prediction = model(x)\n",
    "    max_values, argmaxes = prediction.max(-1)\n",
    "    is_correct = argmaxes == y\n",
    "    return is_correct.cpu().numpy().tolist()\n"
   ]
  },
  {
   "cell_type": "code",
   "execution_count": 78,
   "id": "47c4852c-119f-4e9f-9fe1-3015ca49a55e",
   "metadata": {},
   "outputs": [
    {
     "name": "stdout",
     "output_type": "stream",
     "text": [
      "\n",
      "Epoch: 0\n",
      "\tTraining cicle: .........................................................\n",
      "\tAccuracy cicle: .........................................................\n",
      "Epoch: 1\n",
      "\tTraining cicle: .........................................................\n",
      "\tAccuracy cicle: .........................................................\n",
      "Epoch: 2\n",
      "\tTraining cicle: .........................................................\n",
      "\tAccuracy cicle: .........................................................\n",
      "Epoch: 3\n",
      "\tTraining cicle: .........................................................\n",
      "\tAccuracy cicle: .........................................................\n",
      "Epoch: 4\n",
      "\tTraining cicle: .........................................................\n",
      "\tAccuracy cicle: ........................................................."
     ]
    }
   ],
   "source": [
    "model, loss_fn, optimizer = get_model()\n",
    "trn_dl = get_data()\n",
    "losses, accuracies = [], []\n",
    "\n",
    "for epoch in range(5):\n",
    "    print(f'\\nEpoch: {epoch}', end='')\n",
    "    epoch_losses, epoch_accuracies = [], []\n",
    "    print('\\n\\tTraining cicle: ', end='')\n",
    "    for ix, batch in enumerate(iter(trn_dl)):\n",
    "        print('.', end='') if ix%33 == 0 else \"\"\n",
    "        x, y = batch\n",
    "        #print(f'\\tTraing cicle: ix  = {ix}')\n",
    "        #print(f'\\tTraing cicle: x   = {x}')\n",
    "        #print(f'\\tTraing cicle: y   = {y}')\n",
    "        batch_loss = train_batch(x, y, model, optimizer, loss_fn)\n",
    "        epoch_losses.append(batch_loss)\n",
    "        #if ix>100: break\n",
    "    \n",
    "    epoch_loss = np.array(epoch_losses).mean()\n",
    "        \n",
    "    print('\\n\\tAccuracy cicle: ', end='')\n",
    "    for ix, batch in enumerate(iter(trn_dl)):\n",
    "        print('.', end='') if ix%33 == 0 else \"\"\n",
    "        x, y = batch\n",
    "        #print(f'\\tAccuracy cicle: ix    = {ix}')\n",
    "        #print(f'\\tAccuracy cicle: batch = {batch}')\n",
    "        is_correct = accuracy(x, y, model)\n",
    "        epoch_accuracies.extend(is_correct)\n",
    "        #if ix>100: break\n",
    "            \n",
    "    epoch_accuracy = np.mean(epoch_accuracies)\n",
    "    losses.append(epoch_loss)\n",
    "    accuracies.append(epoch_accuracy)"
   ]
  },
  {
   "cell_type": "code",
   "execution_count": 80,
   "id": "37dacdfa",
   "metadata": {
    "colab": {
     "base_uri": "https://localhost:8080/"
    },
    "id": "37dacdfa",
    "outputId": "c0714fcd-ae7b-4db2-c042-300a1eb3569c"
   },
   "outputs": [
    {
     "name": "stdout",
     "output_type": "stream",
     "text": [
      "Platform : macOS-12.6-arm64-arm-64bit\n",
      "Device   : cpu\n",
      "Torch MPS: True\n",
      "[0.8409783513307572, 0.5362833632787068, 0.4830431389093399, 0.4537665050824483, 0.43381214302380877]\n",
      "[0.8117666666666666, 0.83075, 0.8341833333333334, 0.8501333333333333, 0.8538166666666667]\n"
     ]
    }
   ],
   "source": [
    "import platform\n",
    "print(f'Platform : {platform.platform()}')\n",
    "print(f'Device   : {device}')\n",
    "print(f'Torch MPS: {torch.has_mps}')\n",
    "print(losses)\n",
    "print(accuracies)\n",
    "\n",
    "#model, loss_fn, optimizer = get_model()\n",
    "#trn_dl = get_data()\n",
    "#x, y = next(iter(trn_dl))\n",
    "#%timeit train_batch(x, y, model, optimizer, loss_fn)"
   ]
  },
  {
   "cell_type": "code",
   "execution_count": 118,
   "id": "633fe7e8-8b8b-4ed5-bbab-ac0b2df98ad3",
   "metadata": {},
   "outputs": [
    {
     "name": "stdout",
     "output_type": "stream",
     "text": [
      "tensor([[0.2963, 0.9711, 0.9577, 0.2965],\n",
      "        [0.4662, 0.5320, 0.9362, 0.7229],\n",
      "        [0.9775, 0.1774, 0.0473, 0.5311]])\n",
      "torch.return_types.max(\n",
      "values=tensor([0.9711, 0.9362, 0.9775]),\n",
      "indices=tensor([1, 2, 0]))\n",
      "torch.return_types.max(\n",
      "values=tensor([0.9711, 0.9362, 0.9775]),\n",
      "indices=tensor([1, 2, 0]))\n"
     ]
    }
   ],
   "source": [
    "tt = torch.rand(3,4)\n",
    "print(tt);\n",
    "\n",
    "print(tt.max(1))\n",
    "print(tt.max(-1))\n"
   ]
  },
  {
   "cell_type": "code",
   "execution_count": 98,
   "id": "40005418",
   "metadata": {
    "id": "40005418",
    "outputId": "7913b2ca-ec3e-4c58-e8aa-f25a310270a3"
   },
   "outputs": [
    {
     "name": "stderr",
     "output_type": "stream",
     "text": [
      "/var/folders/44/sqmxmlfx5k383gls301l5s100000gn/T/ipykernel_63965/3339653493.py:10: UserWarning: FixedFormatter should only be used together with FixedLocator\n",
      "  plt.gca().set_yticklabels(['{:.0f}%'.format(x*100) for x in plt.gca().get_yticks().tolist()])\n"
     ]
    },
    {
     "data": {
      "text/plain": [
       "<matplotlib.legend.Legend at 0x29674f1f0>"
      ]
     },
     "execution_count": 98,
     "metadata": {},
     "output_type": "execute_result"
    },
    {
     "data": {
      "image/png": "[encoded data removed]",
      "text/plain": [
       "<Figure size 1440x360 with 2 Axes>"
      ]
     },
     "metadata": {
      "needs_background": "light"
     },
     "output_type": "display_data"
    }
   ],
   "source": [
    "epochs = np.arange(5) + 1\n",
    "plt.figure(figsize=(20,5))\n",
    "plt.subplot(121)\n",
    "plt.title('Loss value over increasing epochs')\n",
    "plt.plot(epochs, losses, label='Training Loss')\n",
    "plt.legend()\n",
    "plt.subplot(122)\n",
    "plt.title('Accuracy value over increasing epochs')\n",
    "plt.plot(epochs, accuracies, label='Training Accuracy')\n",
    "plt.gca().set_yticklabels(['{:.0f}%'.format(x*100) for x in plt.gca().get_yticks().tolist()])\n",
    "plt.legend()"
   ]
  },
  {
   "cell_type": "code",
   "execution_count": null,
   "id": "07c46b58",
   "metadata": {
    "id": "07c46b58"
   },
   "outputs": [],
   "source": []
  }
 ],
 "metadata": {
  "colab": {
   "provenance": []
  },
  "kernelspec": {
   "display_name": "Python 3 (ipykernel)",
   "language": "python",
   "name": "python3"
  },
  "language_info": {
   "codemirror_mode": {
    "name": "ipython",
    "version": 3
   },
   "file_extension": ".py",
   "mimetype": "text/x-python",
   "name": "python",
   "nbconvert_exporter": "python",
   "pygments_lexer": "ipython3",
   "version": "3.9.12"
  },
  "toc-autonumbering": true,
  "toc-showcode": true,
  "toc-showmarkdowntxt": true
 },
 "nbformat": 4,
 "nbformat_minor": 5
}
