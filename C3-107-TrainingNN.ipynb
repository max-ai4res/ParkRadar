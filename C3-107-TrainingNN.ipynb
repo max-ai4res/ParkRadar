{
 "cells": [
  {
   "cell_type": "code",
   "execution_count": 20,
   "id": "481b453e",
   "metadata": {
    "id": "481b453e"
   },
   "outputs": [
    {
     "name": "stdout",
     "output_type": "stream",
     "text": [
      "MPS avaiable: True, build with: True\n",
      "Device: cpu\n",
      "Torch version: 1.13.0\n"
     ]
    }
   ],
   "source": [
    "import datetime\n",
    "from torch.utils.data import Dataset, DataLoader\n",
    "import torch\n",
    "import torch.nn as nn\n",
    "import numpy as np\n",
    "import matplotlib.pyplot as plt\n",
    "from torchvision import datasets\n",
    "import random\n",
    "%matplotlib inline\n",
    "\n",
    "print(f'MPS avaiable: {torch.backends.mps.is_available()}, build with: {torch.backends.mps.is_built()}')\n",
    "\n",
    "device = 'mps' if torch.backends.mps.is_available() else \\\n",
    "  'cuda' if torch.backends.cuda.is_available() else \\\n",
    "  'cpu'\n",
    "\n",
    "device = 'cpu'\n",
    "print(f'Device: {device}')\n",
    "print(f'Torch version: {torch.__version__}')\n",
    "random.seed(0)\n",
    "datafolder = './data/FMNIST'\n",
    "\n",
    "fmnist = datasets.FashionMNIST(datafolder, download=True, train=True)\n",
    "\n",
    "tr_images = fmnist.data\n",
    "tr_targets = fmnist.targets\n",
    "\n",
    "val_fmnist = datasets.FashionMNIST(datafolder, download=True, train=False)\n",
    "val_images = val_fmnist.data\n",
    "val_targets = val_fmnist.targets"
   ]
  },
  {
   "cell_type": "code",
   "execution_count": null,
   "id": "ca63311c-1328-4a00-b39f-09a08338a24e",
   "metadata": {},
   "outputs": [],
   "source": []
  },
  {
   "cell_type": "code",
   "execution_count": 10,
   "id": "cc7cac4c",
   "metadata": {
    "id": "cc7cac4c"
   },
   "outputs": [],
   "source": [
    "class FMINSTDataset(Dataset):\n",
    "    def __init__(self, x, y):\n",
    "        #x = (x.float() -128) / 255\n",
    "        x = x.float() / 255\n",
    "        x = x.view(-1, 28*28)\n",
    "        self.x, self.y = x, y\n",
    "        \n",
    "    def __getitem__(self, ix):\n",
    "        x, y = self.x[ix], self.y[ix]\n",
    "        return x.to(device), y.to(device)\n",
    "    \n",
    "    def __len__(self):\n",
    "        return len(self.x)\n",
    "\n",
    "from torch.optim import SGD, Adam\n",
    "\n",
    "def get_optimizer(model, learning_rate):\n",
    "    return Adam(model.parameters(), lr=learning_rate)\n",
    "\n",
    "def get_model(learning_rate=1e-3):\n",
    "    model = nn.Sequential(\n",
    "        nn.Linear(28*28, 1000),\n",
    "        nn.ReLU(),\n",
    "        nn.Linear(1000, 10)\n",
    "        ).to(device)\n",
    "    loss_fn = nn.CrossEntropyLoss()\n",
    "    optimizer = get_optimizer(model, learning_rate)\n",
    "    return model, loss_fn, optimizer\n",
    "\n",
    "def train_batch(x, y, model, opt, loss_fn):\n",
    "    model.train()\n",
    "    prediction = model(x)\n",
    "    batch_loss = loss_fn(prediction, y)\n",
    "    batch_loss.backward()\n",
    "    optimizer.step()\n",
    "    optimizer.zero_grad()\n",
    "    return batch_loss.item()"
   ]
  },
  {
   "cell_type": "code",
   "execution_count": 11,
   "id": "847298db",
   "metadata": {
    "id": "847298db"
   },
   "outputs": [],
   "source": [
    "def accuracy(x, y, model):\n",
    "    model.eval()\n",
    "    with torch.no_grad():\n",
    "        prediction = model(x)\n",
    "    max_values, argmaxes = prediction.max(-1)\n",
    "    is_correct = argmaxes == y\n",
    "    return is_correct.cpu().numpy().tolist()\n"
   ]
  },
  {
   "cell_type": "code",
   "execution_count": 12,
   "id": "314e5084-7cd5-4888-9765-d60371314339",
   "metadata": {},
   "outputs": [],
   "source": [
    "def get_data():\n",
    "    train = FMINSTDataset(tr_images, tr_targets)\n",
    "    trn_dl = DataLoader(train, batch_size=32, shuffle=True)\n",
    "    val_data = FMINSTDataset(val_images, val_targets)\n",
    "    val_dl = DataLoader(val_data, batch_size=len(val_data), shuffle=False)\n",
    "    return trn_dl, val_dl\n"
   ]
  },
  {
   "cell_type": "code",
   "execution_count": 13,
   "id": "7e92195d-088b-49c0-8c1d-3ae77fb4d43f",
   "metadata": {},
   "outputs": [],
   "source": [
    "@torch.no_grad()\n",
    "def val_loss(x, y, model):\n",
    "    model.eval()\n",
    "    prediction = model(x)\n",
    "    val_loss = loss_fn(prediction, y)\n",
    "    return val_loss.item()\n"
   ]
  },
  {
   "cell_type": "code",
   "execution_count": 14,
   "id": "47c4852c-119f-4e9f-9fe1-3015ca49a55e",
   "metadata": {},
   "outputs": [
    {
     "name": "stdout",
     "output_type": "stream",
     "text": [
      "\n",
      "Epoch: 0 []\n",
      "\n",
      "\tTraining cicle: ......."
     ]
    },
    {
     "ename": "KeyboardInterrupt",
     "evalue": "",
     "output_type": "error",
     "traceback": [
      "\u001b[0;31m---------------------------------------------------------------------------\u001b[0m",
      "\u001b[0;31mKeyboardInterrupt\u001b[0m                         Traceback (most recent call last)",
      "Input \u001b[0;32mIn [14]\u001b[0m, in \u001b[0;36m<cell line: 13>\u001b[0;34m()\u001b[0m\n\u001b[1;32m     15\u001b[0m train_epoch_losses, train_epoch_accuracies \u001b[38;5;241m=\u001b[39m [], []\n\u001b[1;32m     16\u001b[0m \u001b[38;5;28mprint\u001b[39m(\u001b[38;5;124m'\u001b[39m\u001b[38;5;130;01m\\n\u001b[39;00m\u001b[38;5;130;01m\\t\u001b[39;00m\u001b[38;5;124mTraining cicle: \u001b[39m\u001b[38;5;124m'\u001b[39m, end\u001b[38;5;241m=\u001b[39m\u001b[38;5;124m'\u001b[39m\u001b[38;5;124m'\u001b[39m)\n\u001b[0;32m---> 17\u001b[0m \u001b[38;5;28;01mfor\u001b[39;00m ix, batch \u001b[38;5;129;01min\u001b[39;00m \u001b[38;5;28menumerate\u001b[39m(\u001b[38;5;28miter\u001b[39m(trn_dl)):\n\u001b[1;32m     18\u001b[0m     \u001b[38;5;28mprint\u001b[39m(\u001b[38;5;124m'\u001b[39m\u001b[38;5;124m.\u001b[39m\u001b[38;5;124m'\u001b[39m, end\u001b[38;5;241m=\u001b[39m\u001b[38;5;124m'\u001b[39m\u001b[38;5;124m'\u001b[39m) \u001b[38;5;28;01mif\u001b[39;00m ix\u001b[38;5;241m%\u001b[39m\u001b[38;5;241m33\u001b[39m \u001b[38;5;241m==\u001b[39m \u001b[38;5;241m0\u001b[39m \u001b[38;5;28;01melse\u001b[39;00m \u001b[38;5;124m\"\u001b[39m\u001b[38;5;124m\"\u001b[39m\n\u001b[1;32m     19\u001b[0m     x, y \u001b[38;5;241m=\u001b[39m batch\n",
      "File \u001b[0;32m/opt/anaconda3/lib/python3.9/site-packages/torch/utils/data/dataloader.py:628\u001b[0m, in \u001b[0;36m_BaseDataLoaderIter.__next__\u001b[0;34m(self)\u001b[0m\n\u001b[1;32m    625\u001b[0m \u001b[38;5;28;01mif\u001b[39;00m \u001b[38;5;28mself\u001b[39m\u001b[38;5;241m.\u001b[39m_sampler_iter \u001b[38;5;129;01mis\u001b[39;00m \u001b[38;5;28;01mNone\u001b[39;00m:\n\u001b[1;32m    626\u001b[0m     \u001b[38;5;66;03m# TODO(https://github.com/pytorch/pytorch/issues/76750)\u001b[39;00m\n\u001b[1;32m    627\u001b[0m     \u001b[38;5;28mself\u001b[39m\u001b[38;5;241m.\u001b[39m_reset()  \u001b[38;5;66;03m# type: ignore[call-arg]\u001b[39;00m\n\u001b[0;32m--> 628\u001b[0m data \u001b[38;5;241m=\u001b[39m \u001b[38;5;28;43mself\u001b[39;49m\u001b[38;5;241;43m.\u001b[39;49m\u001b[43m_next_data\u001b[49m\u001b[43m(\u001b[49m\u001b[43m)\u001b[49m\n\u001b[1;32m    629\u001b[0m \u001b[38;5;28mself\u001b[39m\u001b[38;5;241m.\u001b[39m_num_yielded \u001b[38;5;241m+\u001b[39m\u001b[38;5;241m=\u001b[39m \u001b[38;5;241m1\u001b[39m\n\u001b[1;32m    630\u001b[0m \u001b[38;5;28;01mif\u001b[39;00m \u001b[38;5;28mself\u001b[39m\u001b[38;5;241m.\u001b[39m_dataset_kind \u001b[38;5;241m==\u001b[39m _DatasetKind\u001b[38;5;241m.\u001b[39mIterable \u001b[38;5;129;01mand\u001b[39;00m \\\n\u001b[1;32m    631\u001b[0m         \u001b[38;5;28mself\u001b[39m\u001b[38;5;241m.\u001b[39m_IterableDataset_len_called \u001b[38;5;129;01mis\u001b[39;00m \u001b[38;5;129;01mnot\u001b[39;00m \u001b[38;5;28;01mNone\u001b[39;00m \u001b[38;5;129;01mand\u001b[39;00m \\\n\u001b[1;32m    632\u001b[0m         \u001b[38;5;28mself\u001b[39m\u001b[38;5;241m.\u001b[39m_num_yielded \u001b[38;5;241m>\u001b[39m \u001b[38;5;28mself\u001b[39m\u001b[38;5;241m.\u001b[39m_IterableDataset_len_called:\n",
      "File \u001b[0;32m/opt/anaconda3/lib/python3.9/site-packages/torch/utils/data/dataloader.py:671\u001b[0m, in \u001b[0;36m_SingleProcessDataLoaderIter._next_data\u001b[0;34m(self)\u001b[0m\n\u001b[1;32m    669\u001b[0m \u001b[38;5;28;01mdef\u001b[39;00m \u001b[38;5;21m_next_data\u001b[39m(\u001b[38;5;28mself\u001b[39m):\n\u001b[1;32m    670\u001b[0m     index \u001b[38;5;241m=\u001b[39m \u001b[38;5;28mself\u001b[39m\u001b[38;5;241m.\u001b[39m_next_index()  \u001b[38;5;66;03m# may raise StopIteration\u001b[39;00m\n\u001b[0;32m--> 671\u001b[0m     data \u001b[38;5;241m=\u001b[39m \u001b[38;5;28;43mself\u001b[39;49m\u001b[38;5;241;43m.\u001b[39;49m\u001b[43m_dataset_fetcher\u001b[49m\u001b[38;5;241;43m.\u001b[39;49m\u001b[43mfetch\u001b[49m\u001b[43m(\u001b[49m\u001b[43mindex\u001b[49m\u001b[43m)\u001b[49m  \u001b[38;5;66;03m# may raise StopIteration\u001b[39;00m\n\u001b[1;32m    672\u001b[0m     \u001b[38;5;28;01mif\u001b[39;00m \u001b[38;5;28mself\u001b[39m\u001b[38;5;241m.\u001b[39m_pin_memory:\n\u001b[1;32m    673\u001b[0m         data \u001b[38;5;241m=\u001b[39m _utils\u001b[38;5;241m.\u001b[39mpin_memory\u001b[38;5;241m.\u001b[39mpin_memory(data, \u001b[38;5;28mself\u001b[39m\u001b[38;5;241m.\u001b[39m_pin_memory_device)\n",
      "File \u001b[0;32m/opt/anaconda3/lib/python3.9/site-packages/torch/utils/data/_utils/fetch.py:58\u001b[0m, in \u001b[0;36m_MapDatasetFetcher.fetch\u001b[0;34m(self, possibly_batched_index)\u001b[0m\n\u001b[1;32m     56\u001b[0m         data \u001b[38;5;241m=\u001b[39m \u001b[38;5;28mself\u001b[39m\u001b[38;5;241m.\u001b[39mdataset\u001b[38;5;241m.\u001b[39m__getitems__(possibly_batched_index)\n\u001b[1;32m     57\u001b[0m     \u001b[38;5;28;01melse\u001b[39;00m:\n\u001b[0;32m---> 58\u001b[0m         data \u001b[38;5;241m=\u001b[39m [\u001b[38;5;28mself\u001b[39m\u001b[38;5;241m.\u001b[39mdataset[idx] \u001b[38;5;28;01mfor\u001b[39;00m idx \u001b[38;5;129;01min\u001b[39;00m possibly_batched_index]\n\u001b[1;32m     59\u001b[0m \u001b[38;5;28;01melse\u001b[39;00m:\n\u001b[1;32m     60\u001b[0m     data \u001b[38;5;241m=\u001b[39m \u001b[38;5;28mself\u001b[39m\u001b[38;5;241m.\u001b[39mdataset[possibly_batched_index]\n",
      "File \u001b[0;32m/opt/anaconda3/lib/python3.9/site-packages/torch/utils/data/_utils/fetch.py:58\u001b[0m, in \u001b[0;36m<listcomp>\u001b[0;34m(.0)\u001b[0m\n\u001b[1;32m     56\u001b[0m         data \u001b[38;5;241m=\u001b[39m \u001b[38;5;28mself\u001b[39m\u001b[38;5;241m.\u001b[39mdataset\u001b[38;5;241m.\u001b[39m__getitems__(possibly_batched_index)\n\u001b[1;32m     57\u001b[0m     \u001b[38;5;28;01melse\u001b[39;00m:\n\u001b[0;32m---> 58\u001b[0m         data \u001b[38;5;241m=\u001b[39m [\u001b[38;5;28;43mself\u001b[39;49m\u001b[38;5;241;43m.\u001b[39;49m\u001b[43mdataset\u001b[49m\u001b[43m[\u001b[49m\u001b[43midx\u001b[49m\u001b[43m]\u001b[49m \u001b[38;5;28;01mfor\u001b[39;00m idx \u001b[38;5;129;01min\u001b[39;00m possibly_batched_index]\n\u001b[1;32m     59\u001b[0m \u001b[38;5;28;01melse\u001b[39;00m:\n\u001b[1;32m     60\u001b[0m     data \u001b[38;5;241m=\u001b[39m \u001b[38;5;28mself\u001b[39m\u001b[38;5;241m.\u001b[39mdataset[possibly_batched_index]\n",
      "Input \u001b[0;32mIn [10]\u001b[0m, in \u001b[0;36mFMINSTDataset.__getitem__\u001b[0;34m(self, ix)\u001b[0m\n\u001b[1;32m      8\u001b[0m \u001b[38;5;28;01mdef\u001b[39;00m \u001b[38;5;21m__getitem__\u001b[39m(\u001b[38;5;28mself\u001b[39m, ix):\n\u001b[1;32m      9\u001b[0m     x, y \u001b[38;5;241m=\u001b[39m \u001b[38;5;28mself\u001b[39m\u001b[38;5;241m.\u001b[39mx[ix], \u001b[38;5;28mself\u001b[39m\u001b[38;5;241m.\u001b[39my[ix]\n\u001b[0;32m---> 10\u001b[0m     \u001b[38;5;28;01mreturn\u001b[39;00m x\u001b[38;5;241m.\u001b[39mto(device), \u001b[43my\u001b[49m\u001b[38;5;241;43m.\u001b[39;49m\u001b[43mto\u001b[49m\u001b[43m(\u001b[49m\u001b[43mdevice\u001b[49m\u001b[43m)\u001b[49m\n",
      "\u001b[0;31mKeyboardInterrupt\u001b[0m: "
     ]
    }
   ],
   "source": [
    "from torch import optim\n",
    "\n",
    "N_EPOCHS = 5\n",
    "trn_dl, val_dl = get_data()\n",
    "model, loss_fn, optimizer = get_model(1e-3)\n",
    "train_losses, train_accuracies = [], []\n",
    "val_losses, val_accuracies = [], []\n",
    "opt_scheduler = optim.lr_scheduler.ReduceLROnPlateau(optimizer,\n",
    "    factor=0.5, patience=0, threshold=True, min_lr=1e-5, threshold_mode='abs', verbose=True)\n",
    "\n",
    "t_start = datetime.datetime.now()\n",
    "\n",
    "for epoch in range(N_EPOCHS):\n",
    "    print(f'\\nEpoch: {epoch} []')\n",
    "    train_epoch_losses, train_epoch_accuracies = [], []\n",
    "    print('\\n\\tTraining cicle: ', end='')\n",
    "    for ix, batch in enumerate(iter(trn_dl)):\n",
    "        print('.', end='') if ix%33 == 0 else \"\"\n",
    "        x, y = batch\n",
    "        #print(f'\\tTraing cicle: ix  = {ix}')\n",
    "        #print(f'\\tTraing cicle: x   = {x}')\n",
    "        #print(f'\\tTraing cicle: y   = {y}')\n",
    "        batch_loss = train_batch(x, y, model, optimizer, loss_fn)\n",
    "        train_epoch_losses.append(batch_loss)\n",
    "        #if ix>100: break\n",
    "    \n",
    "    train_epoch_loss = np.array(train_epoch_losses).mean()\n",
    "        \n",
    "    print('\\n\\tAccuracy cicle on training data: ', end='')\n",
    "    for ix, batch in enumerate(iter(trn_dl)):\n",
    "        print('.', end='') if ix%33 == 0 else \"\"\n",
    "        x, y = batch\n",
    "        #print(f'\\tAccuracy cicle: ix    = {ix}')\n",
    "        #print(f'\\tAccuracy cicle: batch = {batch}')\n",
    "        is_correct = accuracy(x, y, model)\n",
    "        train_epoch_accuracies.extend(is_correct)\n",
    "        #if ix>100: break\n",
    "    train_epoch_accuracy = np.mean(train_epoch_accuracies)\n",
    "    \n",
    "    print('\\n\\tAccuracy cicle on validation data: ', end='')\n",
    "    for ix, batch in enumerate(iter(val_dl)):\n",
    "        print('.', end='') if ix%33 == 0 else \"\"\n",
    "        x, y = batch\n",
    "        val_is_correct = accuracy(x, y, model)\n",
    "        validation_loss = val_loss(x, y, model)\n",
    "        opt_scheduler.step(validation_loss)\n",
    "        \n",
    "    val_epoch_accuracy = np.mean(val_is_correct)    \n",
    "    print(f' current accuracy {val_epoch_accuracy}', end='')\n",
    "    \n",
    "    train_losses.append(train_epoch_loss)\n",
    "    train_accuracies.append(train_epoch_accuracy)\n",
    "    val_losses.append(validation_loss)\n",
    "    val_accuracies.append(val_epoch_accuracy)\n",
    "\n",
    "t_elapsed = datetime.datetime.now() - t_start\n",
    "print(t_elapsed)\n",
    "\n",
    "# 32/5 [ADAM] --> 31.2s accuracy >~85%\n",
    "# 32/5 [SGD]  --> 17.3s accuracy <~85%\n",
    "# 32/10 [SGD]  --> 35.8s accuracy >~85%\n",
    "# 32/10 [ADAM]  --> 61.9s accuracy <~85% jumpy!"
   ]
  },
  {
   "cell_type": "code",
   "execution_count": 8,
   "id": "37dacdfa",
   "metadata": {
    "colab": {
     "base_uri": "https://localhost:8080/"
    },
    "id": "37dacdfa",
    "outputId": "c0714fcd-ae7b-4db2-c042-300a1eb3569c"
   },
   "outputs": [
    {
     "name": "stdout",
     "output_type": "stream",
     "text": [
      "Platform : macOS-12.6-arm64-arm-64bit\n",
      "Device   : cpu\n",
      "Torch MPS: True\n",
      "[0.4347425699234009, 0.3693169951438904, 0.33310574293136597, 0.32322049140930176, 0.3085579574108124]\n",
      "[0.8435, 0.8696, 0.8788, 0.8835, 0.889]\n",
      "2.6 ms ± 9.58 µs per loop (mean ± std. dev. of 7 runs, 100 loops each)\n"
     ]
    }
   ],
   "source": [
    "import platform\n",
    "print(f'Platform : {platform.platform()}')\n",
    "print(f'Device   : {device}')\n",
    "print(f'Torch MPS: {torch.has_mps}')\n",
    "print(val_losses)\n",
    "print(val_accuracies)\n",
    "\n",
    "#[0.8396197241942088, 0.5353731442213059, 0.48255981571276985, 0.45433049147129057, 0.4355701746821404]\n",
    "#[0.7962333333333333, 0.8300333333333333, 0.8386, 0.8508166666666667, 0.8534833333333334]\n",
    "model, loss_fn, optimizer = get_model()\n",
    "trn_dl, val_dl = get_data()\n",
    "x, y = next(iter(trn_dl))\n",
    "%timeit train_batch(x, y, model, optimizer, loss_fn)"
   ]
  },
  {
   "cell_type": "code",
   "execution_count": 152,
   "id": "40005418",
   "metadata": {
    "id": "40005418",
    "outputId": "7913b2ca-ec3e-4c58-e8aa-f25a310270a3"
   },
   "outputs": [
    {
     "data": {
      "image/png": "[encoded data removed]",
      "text/plain": [
       "<Figure size 432x288 with 1 Axes>"
      ]
     },
     "metadata": {
      "needs_background": "light"
     },
     "output_type": "display_data"
    },
    {
     "name": "stderr",
     "output_type": "stream",
     "text": [
      "/var/folders/44/sqmxmlfx5k383gls301l5s100000gn/T/ipykernel_78887/3276711084.py:24: UserWarning: FixedFormatter should only be used together with FixedLocator\n",
      "  plt.gca().set_yticklabels(['{:.0f}%'.format(x*100) for x in plt.gca().get_yticks().tolist()])\n"
     ]
    },
    {
     "data": {
      "image/png": "[encoded data removed]",
      "text/plain": [
       "<Figure size 432x288 with 1 Axes>"
      ]
     },
     "metadata": {
      "needs_background": "light"
     },
     "output_type": "display_data"
    }
   ],
   "source": [
    "import matplotlib.ticker as mticker\n",
    "\n",
    "epochs = np.arange(len(train_losses)) + 1\n",
    "\n",
    "plt.subplot(211)\n",
    "plt.title('Training and validation loss when batch size is 32')\n",
    "plt.plot(epochs, train_losses, 'bo', label='Training loss')\n",
    "plt.plot(epochs, val_losses, 'r', label='Validation loss')\n",
    "plt.gca().xaxis.set_major_locator(mticker.MultipleLocator(1))\n",
    "plt.xlabel('Epochs')\n",
    "plt.ylabel('Loss')\n",
    "plt.legend()\n",
    "plt.grid('off')\n",
    "plt.show()\n",
    "plt.subplot(212)\n",
    "plt.title('Training and Validation accuracy when batch size is 32')\n",
    "plt.plot(epochs, train_accuracies, 'bo', label='Training Accuracy')\n",
    "plt.plot(epochs, val_accuracies, 'r', label='Validation Accuracy')\n",
    "plt.gca().xaxis.set_major_locator(mticker.MultipleLocator(1))\n",
    "plt.xlabel('Epochs')\n",
    "plt.ylabel('Accuracy')\n",
    "plt.legend()\n",
    "plt.grid('off')\n",
    "plt.gca().set_yticklabels(['{:.0f}%'.format(x*100) for x in plt.gca().get_yticks().tolist()])\n",
    "plt.legend()\n",
    "plt.grid('off')\n",
    "plt.show()"
   ]
  },
  {
   "cell_type": "code",
   "execution_count": 153,
   "id": "07c46b58",
   "metadata": {
    "id": "07c46b58"
   },
   "outputs": [
    {
     "data": {
      "image/png": "[encoded data removed]",
      "text/plain": [
       "<Figure size 432x288 with 1 Axes>"
      ]
     },
     "metadata": {
      "needs_background": "light"
     },
     "output_type": "display_data"
    },
    {
     "data": {
      "image/png": "[encoded data removed]",
      "text/plain": [
       "<Figure size 432x288 with 1 Axes>"
      ]
     },
     "metadata": {
      "needs_background": "light"
     },
     "output_type": "display_data"
    },
    {
     "data": {
      "image/png": "[encoded data removed]",
      "text/plain": [
       "<Figure size 432x288 with 1 Axes>"
      ]
     },
     "metadata": {
      "needs_background": "light"
     },
     "output_type": "display_data"
    },
    {
     "data": {
      "image/png": "[encoded data removed]",
      "text/plain": [
       "<Figure size 432x288 with 1 Axes>"
      ]
     },
     "metadata": {
      "needs_background": "light"
     },
     "output_type": "display_data"
    }
   ],
   "source": [
    "#Plot pmodel parameters distribution\n",
    "\n",
    "for ix, par in enumerate(model.parameters()):\n",
    "    if(ix==0):\n",
    "        plt.hist(par.cpu().detach().numpy().flatten())\n",
    "        plt.title('Ditribution of weight in input-to-hidden')\n",
    "        plt.show()\n",
    "    if(ix==1):\n",
    "        plt.hist(par.cpu().detach().numpy().flatten())\n",
    "        plt.title('Ditribution of bias in input-to-hidden')\n",
    "        plt.show()\n",
    "    if(ix==2):\n",
    "        plt.hist(par.cpu().detach().numpy().flatten())\n",
    "        plt.title('Ditribution of weight in hidden-to-out')\n",
    "        plt.show()\n",
    "    if(ix==3):\n",
    "        plt.hist(par.cpu().detach().numpy().flatten())\n",
    "        plt.title('Ditribution of bias in hidden-to-out')\n",
    "        plt.show()\n",
    "        "
   ]
  },
  {
   "cell_type": "code",
   "execution_count": null,
   "id": "062d3827-a20d-4460-adf0-4e0cb0a4574b",
   "metadata": {},
   "outputs": [],
   "source": []
  }
 ],
 "metadata": {
  "colab": {
   "provenance": []
  },
  "kernelspec": {
   "display_name": "Python 3 (ipykernel)",
   "language": "python",
   "name": "python3"
  },
  "language_info": {
   "codemirror_mode": {
    "name": "ipython",
    "version": 3
   },
   "file_extension": ".py",
   "mimetype": "text/x-python",
   "name": "python",
   "nbconvert_exporter": "python",
   "pygments_lexer": "ipython3",
   "version": "3.9.12"
  },
  "toc-autonumbering": true,
  "toc-showcode": true,
  "toc-showmarkdowntxt": true
 },
 "nbformat": 4,
 "nbformat_minor": 5
}
