{
 "cells": [
  {
   "cell_type": "code",
   "execution_count": 1,
   "metadata": {},
   "outputs": [
    {
     "name": "stdout",
     "output_type": "stream",
     "text": [
      " x^2 + 1\n",
      " x^1 + 1\n",
      "grado del polinomio: 2\n"
     ]
    },
    {
     "data": {
      "text/plain": [
       "[1, 0, 1]"
      ]
     },
     "execution_count": 1,
     "metadata": {},
     "output_type": "execute_result"
    }
   ],
   "source": [
    "class Polynomial:\n",
    "    def __init__(self, coeff: dict[int:float], name='P', variable='x'):\n",
    "        self.coeff = coeff\n",
    "\n",
    "    def printme(self, skip_zero=True, plain_mode=True):\n",
    "        first = True\n",
    "        for k, v in self.coeff.items():\n",
    "            if skip_zero and v == 0:\n",
    "                continue\n",
    "\n",
    "            if(first):\n",
    "                sign = '-' if v < 0 else ''\n",
    "            else:\n",
    "                sign = ' - ' if v < 0 else ' + '\n",
    "\n",
    "            v = abs(v)\n",
    "\n",
    "            if plain_mode and k==0:\n",
    "                print(f'{sign}{v}', end='')\n",
    "            elif plain_mode and v==1:\n",
    "                print(f'{sign} x^{k}', end='')\n",
    "            else:\n",
    "                print(f'{sign}{v} x^{k}', end='')\n",
    "            first = False\n",
    "        print()\n",
    "    \n",
    "    def grade(self) -> int:\n",
    "        grade = -1\n",
    "        for k in self.coeff:\n",
    "            if(k > grade):\n",
    "                grade = k\n",
    "        return grade\n",
    "\n",
    "    def toArray(self, max_grade = -1):\n",
    "        if max_grade < self.grade():\n",
    "            max_grade = self.grade()\n",
    "        values = [0 for _ in range(max_grade+1)]\n",
    "        for k, v in self.coeff.items():\n",
    "            values[k] = v\n",
    "        return values\n",
    "\n",
    "    def div(self, divisor) -> tuple:\n",
    "       # if divisor.grade() > self.grade()\n",
    "        p = self.toArray()\n",
    "        d = divisor.toArray(self.grade())        \n",
    "\n",
    "        q = []\n",
    "        #todo...\n",
    "        return (p, d)\n",
    "\n",
    "\n",
    "\n",
    "p1 = Polynomial({2:1, 1:0, 0:1})\n",
    "p2 = Polynomial({2:0, 1:1, 0:1})\n",
    "p1.printme()\n",
    "p2.printme()\n",
    "print(f'grado del polinomio: {p1.grade()}')\n",
    "p1.toArray()"
   ]
  },
  {
   "cell_type": "code",
   "execution_count": null,
   "metadata": {},
   "outputs": [],
   "source": []
  }
 ],
 "metadata": {
  "kernelspec": {
   "display_name": "Python 3.10.8 ('p310')",
   "language": "python",
   "name": "python3"
  },
  "language_info": {
   "codemirror_mode": {
    "name": "ipython",
    "version": 3
   },
   "file_extension": ".py",
   "mimetype": "text/x-python",
   "name": "python",
   "nbconvert_exporter": "python",
   "pygments_lexer": "ipython3",
   "version": "3.10.8"
  },
  "vscode": {
   "interpreter": {
    "hash": "674139ce970fa82af6c6fe3ae01acbbd310fc9bc5f2c77f577d46474d716e82a"
   }
  }
 },
 "nbformat": 4,
 "nbformat_minor": 4
}
