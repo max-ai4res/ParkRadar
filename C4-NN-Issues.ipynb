{
 "cells": [
  {
   "cell_type": "code",
   "execution_count": 97,
   "id": "481b453e",
   "metadata": {
    "id": "481b453e"
   },
   "outputs": [
    {
     "name": "stdout",
     "output_type": "stream",
     "text": [
      "MPS avaiable: True, build with: True\n",
      "Device: cpu\n",
      "Torch version: 1.13.0\n"
     ]
    }
   ],
   "source": [
    "import datetime\n",
    "from torch.utils.data import Dataset, DataLoader\n",
    "import torch\n",
    "import torch.nn as nn\n",
    "import numpy as np\n",
    "import matplotlib.pyplot as plt\n",
    "from torchvision import datasets\n",
    "import random\n",
    "%matplotlib inline\n",
    "\n",
    "print(f'MPS avaiable: {torch.backends.mps.is_available()}, build with: {torch.backends.mps.is_built()}')\n",
    "\n",
    "device = 'mps' if torch.backends.mps.is_available() else \\\n",
    "  'cuda' if torch.backends.cuda.is_available() else \\\n",
    "  'cpu'\n",
    "\n",
    "device = 'cpu'\n",
    "print(f'Device: {device}')\n",
    "print(f'Torch version: {torch.__version__}')\n",
    "random.seed(0)\n",
    "datafolder = './data/FMNIST'\n",
    "\n",
    "fmnist = datasets.FashionMNIST(datafolder, download=True, train=True)\n",
    "\n",
    "tr_images = fmnist.data\n",
    "tr_targets = fmnist.targets\n",
    "\n",
    "val_fmnist = datasets.FashionMNIST(datafolder, download=True, train=False)\n",
    "val_images = val_fmnist.data\n",
    "val_targets = val_fmnist.targets"
   ]
  },
  {
   "cell_type": "code",
   "execution_count": 98,
   "id": "cc7cac4c",
   "metadata": {
    "id": "cc7cac4c"
   },
   "outputs": [],
   "source": [
    "class FMINSTDataset(Dataset):\n",
    "    def __init__(self, x, y):\n",
    "        #x = (x.float() -128) / 255\n",
    "        x = x.float() / 255\n",
    "        x = x.view(-1, 28*28)\n",
    "        self.x, self.y = x, y\n",
    "        \n",
    "    def __getitem__(self, ix):\n",
    "        x, y = self.x[ix], self.y[ix]\n",
    "        return x.to(device), y.to(device)\n",
    "    \n",
    "    def __len__(self):\n",
    "        return len(self.x)"
   ]
  },
  {
   "cell_type": "code",
   "execution_count": 110,
   "id": "082fdec3-df16-4147-94bb-d9436f8eabb2",
   "metadata": {},
   "outputs": [],
   "source": [
    "# possiamo ottenere il model creando una rete ad N livelli sequenziale\n",
    "# sfruttando nn.Sequential oppure in modo costruttivo diretto derivando\n",
    "# da nn.Module e vedere in dettaglio cosa avviene su ogni layer\n",
    "def get_model_direct(learning_rate=1e-3):\n",
    "    model = nn.Sequential(\n",
    "        #nn.Dropout(0.25),\n",
    "        nn.Linear(28*28, 1000),\n",
    "        nn.BatchNorm1d(1000),\n",
    "        nn.ReLU(),\n",
    "        #nn.Dropout(0.25),\n",
    "        nn.Linear(1000, 10)\n",
    "        ).to(device)\n",
    "    loss_fn = nn.CrossEntropyLoss()\n",
    "    optimizer = get_optimizer(model, learning_rate)\n",
    "    return model, loss_fn, optimizer\n",
    "\n",
    "\n",
    "def get_model_by_construction(learning_rate=1e-3):\n",
    "    class Neuralnet(nn.Module):\n",
    "        def __init__(self):\n",
    "            super().__init__()\n",
    "            #self.input_to_hidden_dropout = nn.Dropout(0.25)\n",
    "            self.input_to_hidden_layer = nn.Linear(28*28, 1000)\n",
    "            #self.batch_norm = nn.BatchNorm1d(1000)\n",
    "            self.hidden_layer_activation = nn.ReLU()\n",
    "            #self.hidden_to_output_dropout = nn.Dropout(0.25)\n",
    "            self.hidden_to_output_layer = nn.Linear(1000, 10)\n",
    "        def forward(self, x):\n",
    "            #x = self.input_to_hidden_dropout(x)\n",
    "            x = self.input_to_hidden_layer(x)\n",
    "            #x = self.batch_norm(x)\n",
    "            x = self.hidden_layer_activation(x)\n",
    "            #x = self.hidden_to_output_dropout(x)\n",
    "            x = self.hidden_to_output_layer(x)\n",
    "            return x\n",
    "    model = Neuralnet().to(device)\n",
    "    loss_fn = nn.CrossEntropyLoss()\n",
    "    optimizer = get_optimizer(model, learning_rate)\n",
    "    return model, loss_fn, optimizer\n",
    "\n",
    "#get_model = get_model_direct\n",
    "get_model = get_model_by_construction\n"
   ]
  },
  {
   "cell_type": "code",
   "execution_count": 111,
   "id": "d69a9c7b-de4c-471e-a9d1-05e30799daa1",
   "metadata": {},
   "outputs": [],
   "source": [
    "from torch.optim import SGD, Adam\n",
    "\n",
    "def get_optimizer(model, learning_rate):\n",
    "    return Adam(model.parameters(), lr=learning_rate)\n",
    "\n",
    "def l_regularization(model, l_type):\n",
    "    l_regularization = 0\n",
    "    l_gamma = l_type == 0.0001 if l_type == 1 else 0.01\n",
    "    for p in model.parameters():\n",
    "        l_regularization += torch.norm(p, l_norm_type)\n",
    "    return l_gamma * l_regularization\n",
    "\n",
    "def train_batch(x, y, model, opt, loss_fn):\n",
    "    model.train()\n",
    "    prediction = model(x)\n",
    "    # all'errore può essere aggiunta una valutazione dei pesi per evitare valori eccessivi degli stessi\n",
    "    batch_loss = loss_fn(prediction, y) #+ l_regularization(model, 2)\n",
    "    batch_loss.backward()\n",
    "    optimizer.step()\n",
    "    optimizer.zero_grad()\n",
    "    return batch_loss.item()"
   ]
  },
  {
   "cell_type": "code",
   "execution_count": 112,
   "id": "847298db",
   "metadata": {
    "id": "847298db"
   },
   "outputs": [],
   "source": [
    "def accuracy(x, y, model):\n",
    "    model.eval()\n",
    "    with torch.no_grad():\n",
    "        prediction = model(x)\n",
    "    max_values, argmaxes = prediction.max(-1)\n",
    "    is_correct = argmaxes == y\n",
    "    return is_correct.cpu().numpy().tolist()\n"
   ]
  },
  {
   "cell_type": "code",
   "execution_count": 113,
   "id": "314e5084-7cd5-4888-9765-d60371314339",
   "metadata": {},
   "outputs": [],
   "source": [
    "def get_data():\n",
    "    train = FMINSTDataset(tr_images, tr_targets)\n",
    "    trn_dl = DataLoader(train, batch_size=32, shuffle=True)\n",
    "    val_data = FMINSTDataset(val_images, val_targets)\n",
    "    val_dl = DataLoader(val_data, batch_size=len(val_data), shuffle=False)\n",
    "    return trn_dl, val_dl\n"
   ]
  },
  {
   "cell_type": "code",
   "execution_count": 139,
   "id": "7e92195d-088b-49c0-8c1d-3ae77fb4d43f",
   "metadata": {},
   "outputs": [],
   "source": [
    "@torch.no_grad()\n",
    "def val_loss(x, y, model):\n",
    "    model.eval()\n",
    "    prediction = model(x)\n",
    "    val_loss = loss_fn(prediction, y)\n",
    "    return val_loss.item()\n",
    "\n",
    "def eval_out_probability(y):\n",
    "    return np.exp(y) / np.sum(np.exp(y))"
   ]
  },
  {
   "cell_type": "code",
   "execution_count": 129,
   "id": "47c4852c-119f-4e9f-9fe1-3015ca49a55e",
   "metadata": {},
   "outputs": [
    {
     "name": "stdout",
     "output_type": "stream",
     "text": [
      "\n",
      "Epoch: 0 []\n",
      "\n",
      "\tTraining cicle: .........................................................\n",
      "\tAccuracy cicle on training data: .........................................................\n",
      "\tAccuracy cicle on validation data: . current accuracy 0.8458\n",
      "Epoch: 1 []\n",
      "\n",
      "\tTraining cicle: .........................................................\n",
      "\tAccuracy cicle on training data: .........................................................\n",
      "\tAccuracy cicle on validation data: .Epoch 00002: reducing learning rate of group 0 to 5.0000e-04.\n",
      " current accuracy 0.8643\n",
      "Epoch: 2 []\n",
      "\n",
      "\tTraining cicle: .........................................................\n",
      "\tAccuracy cicle on training data: .........................................................\n",
      "\tAccuracy cicle on validation data: .Epoch 00003: reducing learning rate of group 0 to 2.5000e-04.\n",
      " current accuracy 0.8746\n",
      "Epoch: 3 []\n",
      "\n",
      "\tTraining cicle: .........................................................\n",
      "\tAccuracy cicle on training data: .........................................................\n",
      "\tAccuracy cicle on validation data: .Epoch 00004: reducing learning rate of group 0 to 1.2500e-04.\n",
      " current accuracy 0.8788\n",
      "Epoch: 4 []\n",
      "\n",
      "\tTraining cicle: .........................................................\n",
      "\tAccuracy cicle on training data: .........................................................\n",
      "\tAccuracy cicle on validation data: .Epoch 00005: reducing learning rate of group 0 to 6.2500e-05.\n",
      " current accuracy 0.88810:00:32.790038\n"
     ]
    }
   ],
   "source": [
    "from torch import optim\n",
    "\n",
    "N_EPOCHS = 5\n",
    "trn_dl, val_dl = get_data()\n",
    "model, loss_fn, optimizer = get_model(1e-3)\n",
    "train_losses, train_accuracies = [], []\n",
    "val_losses, val_accuracies = [], []\n",
    "opt_scheduler = optim.lr_scheduler.ReduceLROnPlateau(optimizer,\n",
    "    factor=0.5, patience=0, threshold=True, min_lr=1e-5, threshold_mode='abs', verbose=True)\n",
    "\n",
    "t_start = datetime.datetime.now()\n",
    "\n",
    "for epoch in range(N_EPOCHS):\n",
    "    print(f'\\nEpoch: {epoch} []')\n",
    "    train_epoch_losses, train_epoch_accuracies = [], []\n",
    "    print('\\n\\tTraining cicle: ', end='')\n",
    "    for ix, batch in enumerate(iter(trn_dl)):\n",
    "        print('.', end='') if ix%33 == 0 else \"\"\n",
    "        x, y = batch\n",
    "        batch_loss = train_batch(x, y, model, optimizer, loss_fn)\n",
    "        train_epoch_losses.append(batch_loss)\n",
    "    \n",
    "    train_epoch_loss = np.array(train_epoch_losses).mean()\n",
    "        \n",
    "    print('\\n\\tAccuracy cicle on training data: ', end='')\n",
    "    for ix, batch in enumerate(iter(trn_dl)):\n",
    "        print('.', end='') if ix%33 == 0 else \"\"\n",
    "        x, y = batch\n",
    "        is_correct = accuracy(x, y, model)\n",
    "        train_epoch_accuracies.extend(is_correct)\n",
    "\n",
    "    train_epoch_accuracy = np.mean(train_epoch_accuracies)\n",
    "    \n",
    "    print('\\n\\tAccuracy cicle on validation data: ', end='')\n",
    "    for ix, batch in enumerate(iter(val_dl)):\n",
    "        print('.', end='') if ix%33 == 0 else \"\"\n",
    "        x, y = batch\n",
    "        val_is_correct = accuracy(x, y, model)\n",
    "        validation_loss = val_loss(x, y, model)\n",
    "        opt_scheduler.step(validation_loss)\n",
    "        \n",
    "    val_epoch_accuracy = np.mean(val_is_correct)    \n",
    "    print(f' current accuracy {val_epoch_accuracy}', end='')\n",
    "    \n",
    "    train_losses.append(train_epoch_loss)\n",
    "    train_accuracies.append(train_epoch_accuracy)\n",
    "    val_losses.append(validation_loss)\n",
    "    val_accuracies.append(val_epoch_accuracy)\n",
    "\n",
    "t_elapsed = datetime.datetime.now() - t_start\n",
    "print(t_elapsed)\n",
    "\n",
    "# 32/5 [ADAM] --> 31.2s accuracy >~85%\n",
    "# 32/5 [SGD]  --> 17.3s accuracy <~85%\n",
    "# 32/10 [SGD]  --> 35.8s accuracy >~85%\n",
    "# 32/10 [ADAM]  --> 61.9s accuracy <~85% jumpy!\n",
    "# >> 32/5 [ADAM] --> 29.67s accuracy 89% - with lr optimizer\n",
    "# 32/5 [ADAM] --> 39.26s accuracy 89% - with lr optimizer & batc_norm\n",
    "# 32/5 [ADAM] --> 41.26s accuracy ~88% - with lr optimizer & batc_norm & dropout\n",
    "# 32/5 [ADAM] --> 50.80s accuracy ~86% - with lr optimizer & batc_norm & dropout & L1\n",
    "# 32/5 [ADAM] --> 50.59s accuracy ~87% - with lr optimizer & batc_norm & dropout & L2"
   ]
  },
  {
   "cell_type": "markdown",
   "id": "486f17ec-a2fa-49dc-8c72-0233a28f81a9",
   "metadata": {},
   "source": [
    "# Verifichiamo i problemi che si possono riscontrare da una traslazione dell'immagine in input..."
   ]
  },
  {
   "cell_type": "code",
   "execution_count": 143,
   "id": "936c3b59-fc7d-48e8-911c-875605fed734",
   "metadata": {},
   "outputs": [
    {
     "name": "stdout",
     "output_type": "stream",
     "text": [
      "tensor([[  0,   0,   0,   0,   0,   0,   0,   0,   0,   0, 190, 198, 178, 183,\n",
      "         182, 186, 184, 180, 188, 181,   0,   0,   0,   0,   0,   0,   0,   0],\n",
      "        [  0,   0,   0,   0,   0,   0,   0,   0,   0,   8, 253, 216, 210, 223,\n",
      "         210, 194, 209, 204, 198, 223,   0,   0,   0,   0,   0,   0,   0,   0],\n",
      "        [  0,   0,   0,   0,   0,   0,   0,   0,   0,  64, 220, 205, 205, 219,\n",
      "         214, 205, 208, 189, 191, 219,  16,   0,   0,   0,   0,   0,   0,   0],\n",
      "        [  0,   0,   0,   0,   0,   0,   0,   0,   0, 122, 204, 205, 223, 214,\n",
      "         215, 190, 214, 213, 198, 213,  87,   0,   0,   0,   0,   0,   0,   0],\n",
      "        [  0,   0,   0,   0,   0,   0,   0,   0,   0, 174, 203, 203, 204, 201,\n",
      "         212, 198, 201, 213, 182, 202, 137,   0,   0,   0,   0,   0,   0,   0],\n",
      "        [  0,   0,   0,   0,   0,   0,   0,   0,   0, 222, 208, 199, 198, 222,\n",
      "         211, 208, 230, 211, 197, 206, 149,   0,   0,   0,   0,   0,   0,   0],\n",
      "        [  0,   0,   0,   0,   0,   0,   0,   0,   0, 245, 208, 224, 237, 235,\n",
      "         227, 224, 214, 202, 195, 197, 169,   0,   0,   0,   0,   0,   0,   0],\n",
      "        [  0,   0,   0,   0,   0,   0,   0,   0,   7, 245, 200, 197, 187, 201,\n",
      "         245, 238, 227, 216, 202, 217, 149,   0,   0,   0,   0,   0,   0,   0],\n",
      "        [  0,   0,   0,   0,   0,   0,   0,   0,  57, 233, 189, 193, 205, 248,\n",
      "         182, 209, 251, 206, 206, 203, 129,   0,   0,   0,   0,   0,   0,   0],\n",
      "        [  0,   0,   0,   0,   0,   0,   0,   0,  85, 222, 189, 203, 195, 255,\n",
      "          33,  32, 255, 210, 201, 203, 123,   0,   0,   0,   0,   0,   0,   0],\n",
      "        [  0,   0,   0,   0,   0,   0,   0,   0, 101, 220, 177, 182, 215, 218,\n",
      "           0,   0, 253, 215, 190, 198, 109,   0,   0,   0,   0,   0,   0,   0],\n",
      "        [  0,   0,   0,   0,   0,   0,   0,   0,  95, 208, 180, 189, 252,  64,\n",
      "           0,   0, 172, 227, 188, 194, 101,   0,   0,   0,   0,   0,   0,   0],\n",
      "        [  0,   0,   0,   0,   0,   0,   0,   0,  79, 204, 174, 194, 252,   0,\n",
      "           0,   0, 115, 229, 186, 179, 105,   0,   0,   0,   0,   0,   0,   0],\n",
      "        [  0,   0,   0,   0,   0,   0,   0,   0,  63, 191, 175, 209, 208,   0,\n",
      "           0,   0,  90, 228, 178, 155,  67,   0,   0,   0,   0,   0,   0,   0],\n",
      "        [  0,   0,   0,   0,   0,   0,   0,   0,  56, 194, 189, 222, 125,   0,\n",
      "           3,   0,  58, 223, 158, 121,  99,   0,   0,   0,   0,   0,   0,   0],\n",
      "        [  0,   0,   0,   0,   0,   0,   0,   0,  62, 208, 199, 229,  95,   0,\n",
      "           5,   0,  28, 230, 180, 104,  49,   0,   0,   0,   0,   0,   0,   0],\n",
      "        [  0,   0,   0,   0,   0,   0,   0,   0,  25, 207, 200, 231,  70,   0,\n",
      "           2,   0,   0, 205, 205, 187,  76,   0,   0,   0,   0,   0,   0,   0],\n",
      "        [  0,   0,   0,   0,   0,   0,   0,   0,   0, 207, 196, 226, 179,   0,\n",
      "           0,   0,   0, 199, 196, 201, 176,   0,   0,   0,   0,   0,   0,   0],\n",
      "        [  0,   0,   0,   0,   0,   0,   0,   0,   0, 191, 210, 208, 239,   0,\n",
      "           0,   0,   0, 204, 221, 212, 123,   0,   0,   0,   0,   0,   0,   0],\n",
      "        [  0,   0,   0,   0,   0,   0,   0,   0,   0, 122, 233, 207, 222,  33,\n",
      "           0,   0,   0, 206, 227, 235, 130,   0,   0,   0,   0,   0,   0,   0],\n",
      "        [  0,   0,   0,   0,   0,   0,   0,   0,   0,  43, 235, 206, 225, 122,\n",
      "           0,   0,   0, 243, 218, 231, 133,   0,   0,   0,   0,   0,   0,   0],\n",
      "        [  0,   0,   0,   0,   0,   0,   0,   0,   0,   0, 213, 216, 214, 226,\n",
      "           0,   0,   0, 232, 220, 236, 155,   0,   0,   0,   0,   0,   0,   0],\n",
      "        [  0,   0,   0,   0,   0,   0,   0,   0,   0,   0, 176, 220, 197, 221,\n",
      "          18,   0,   0, 229, 223, 234, 189,   0,   0,   0,   0,   0,   0,   0],\n",
      "        [  0,   0,   0,   0,   0,   0,   0,   0,   2,   0,  92, 232, 200, 232,\n",
      "          96,   0,   0, 230, 219, 225, 194,   0,   0,   0,   0,   0,   0,   0],\n",
      "        [  0,   0,   0,   0,   0,   0,   0,   0,   4,   0,  14, 231, 207, 230,\n",
      "         176,   0,   0, 226, 229, 214, 202,   0,   0,   0,   0,   0,   0,   0],\n",
      "        [  0,   0,   0,   0,   0,   0,   0,   0,   2,   0,   0, 203, 222, 220,\n",
      "         252,   0,   0, 198, 226, 209, 216,   0,   0,   0,   0,   0,   0,   0],\n",
      "        [  0,   0,   0,   0,   0,   0,   0,   0,   0,   0,   0, 162, 245, 234,\n",
      "         255,   0,   0, 219, 232, 218, 231,   0,   0,   0,   0,   0,   0,   0],\n",
      "        [  0,   0,   0,   0,   0,   0,   0,   0,   0,   1,   0,  38, 179, 153,\n",
      "          38,   0,   0, 134, 232, 223, 153,   0,   0,   0,   0,   0,   0,   0]],\n",
      "       dtype=torch.uint8)\n"
     ]
    },
    {
     "data": {
      "text/plain": [
       "Text(0.5, 1.0, 'Trouser')"
      ]
     },
     "execution_count": 143,
     "metadata": {},
     "output_type": "execute_result"
    },
    {
     "data": {
      "image/png": "[encoded data removed]",
      "text/plain": [
       "<Figure size 432x288 with 1 Axes>"
      ]
     },
     "metadata": {
      "needs_background": "light"
     },
     "output_type": "display_data"
    }
   ],
   "source": [
    "ix = 24300\n",
    "img = tr_images[ix]\n",
    "plt.imshow(img, cmap='gray')\n",
    "plt.title(fmnist.classes[tr_targets[ix]])\n"
   ]
  },
  {
   "cell_type": "code",
   "execution_count": 140,
   "id": "9a799c0c-8d52-4d89-bea2-a2da59eca6db",
   "metadata": {},
   "outputs": [
    {
     "name": "stdout",
     "output_type": "stream",
     "text": [
      "Out layer values: [ -0.12489169   5.7514467   -6.2410464   -3.3654857   -5.202911\n",
      " -18.068932    -5.164522   -24.878504    -9.6186075  -17.351116  ]\n",
      "\n",
      "Normalized probability: [2.7967675e-03 9.9705178e-01 6.1722585e-06 1.0946727e-04 1.7430129e-05\n",
      " 4.5046272e-11 1.8112261e-05 4.9693455e-14 2.1066286e-07 9.2342606e-11]\n",
      "\n",
      "Identified item: Trouser\n"
     ]
    }
   ],
   "source": [
    "img_data = (img / 255.).view(28*28).to(device)\n",
    "np_out = model(img_data).cpu().detach().numpy()\n",
    "print(f'Out layer values: {np_out}')\n",
    "prob = eval_out_probability(np_out)\n",
    "print(f'\\nNormalized probability: {prob}')\n",
    "\n",
    "print(f'\\nIdentified item: {fmnist.classes[np.argmax(prob)]}')"
   ]
  },
  {
   "cell_type": "code",
   "execution_count": 154,
   "id": "0fbc9ef3-a2c1-4294-9b10-351cafb5a9c7",
   "metadata": {},
   "outputs": [],
   "source": [
    "preds = []\n",
    "for px in range(-5, 6):\n",
    "    nn_in = (img / 255.).view(28,28)\n",
    "    nn_in = torch.Tensor(np.roll(nn_in, px, axis=1))\n",
    "    nn_in = nn_in.view(28*28).to(device)\n",
    "    nn_out = model(nn_in).cpu().detach().numpy()\n",
    "    preds.append(eval_out_probability(nn_out))"
   ]
  },
  {
   "cell_type": "code",
   "execution_count": 156,
   "id": "870dc6c5-b45a-48c0-a027-a818a48e20e6",
   "metadata": {},
   "outputs": [
    {
     "data": {
      "text/plain": [
       "<AxesSubplot:title={'center':'Probability matrix'}>"
      ]
     },
     "execution_count": 157,
     "metadata": {},
     "output_type": "execute_result"
    },
    {
     "data": {
      "image/png": "[encoded data removed]",
      "text/plain": [
       "<Figure size 864x720 with 2 Axes>"
      ]
     },
     "metadata": {
      "needs_background": "light"
     },
     "output_type": "display_data"
    }
   ],
   "source": [
    "import seaborn as sns\n",
    "fig, ax = plt.subplots(1, 1, figsize=(12, 10))\n",
    "plt.title('Probability matrix')\n",
    "\n",
    "sns.heatmap(np.array(preds), annot=True, ax=ax, fmt='.2f', \n",
    "            xticklabels=fmnist.classes,\n",
    "            yticklabels=[str(i)+str(' pixels') for i in range(-5,6)],\n",
    "            cmap='gray')"
   ]
  }
 ],
 "metadata": {
  "colab": {
   "provenance": []
  },
  "kernelspec": {
   "display_name": "Python 3 (ipykernel)",
   "language": "python",
   "name": "python3"
  },
  "language_info": {
   "codemirror_mode": {
    "name": "ipython",
    "version": 3
   },
   "file_extension": ".py",
   "mimetype": "text/x-python",
   "name": "python",
   "nbconvert_exporter": "python",
   "pygments_lexer": "ipython3",
   "version": "3.10.6"
  },
  "toc-autonumbering": true,
  "toc-showcode": true,
  "toc-showmarkdowntxt": true
 },
 "nbformat": 4,
 "nbformat_minor": 5
}
