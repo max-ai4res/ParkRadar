{
 "cells": [
  {
   "cell_type": "markdown",
   "id": "b4fc25e5-fc51-4ffe-aad5-e4e1c5760e67",
   "metadata": {},
   "source": [
    "# TORCH MPS TEST"
   ]
  },
  {
   "cell_type": "code",
   "execution_count": 4,
   "id": "18673d41-5de1-4860-99a9-60be10512061",
   "metadata": {},
   "outputs": [
    {
     "name": "stdout",
     "output_type": "stream",
     "text": [
      "MPS avaiable: True, build with: True\n"
     ]
    }
   ],
   "source": [
    "import torch\n",
    "import math\n",
    "\n",
    "print(f'MPS avaiable: {torch.backends.mps.is_available()}, build with: {torch.backends.mps.is_built()}')\n",
    "\n",
    "device = 'mps' if torch.backends.mps.is_available() else \\\n",
    "  'cuda' if torch.backends.cuda.is_available() else \\\n",
    "  'cpu'"
   ]
  },
  {
   "cell_type": "code",
   "execution_count": 7,
   "id": "da720ff4-afd0-4e01-8475-2df1ceb80315",
   "metadata": {},
   "outputs": [
    {
     "name": "stdout",
     "output_type": "stream",
     "text": [
      "99 87.57077026367188\n",
      "199 64.15534973144531\n",
      "299 47.71859359741211\n",
      "399 36.174774169921875\n",
      "499 28.06369972229004\n",
      "599 22.362226486206055\n",
      "699 18.352909088134766\n",
      "799 15.532451629638672\n",
      "899 13.547626495361328\n",
      "999 12.150397300720215\n",
      "1099 11.16648006439209\n",
      "1199 10.473418235778809\n",
      "1299 9.985079765319824\n",
      "1399 9.640910148620605\n",
      "1499 9.398283958435059\n",
      "1599 9.227201461791992\n",
      "1699 9.106539726257324\n",
      "1799 9.021421432495117\n",
      "1899 8.961362838745117\n",
      "1999 8.918980598449707\n",
      "Result: y = -0.01050795242190361 + 0.8549855351448059 x + 0.0018127952935174108 x^2 + -0.09308070689439774 x^3\n"
     ]
    }
   ],
   "source": [
    "dtype = torch.float\n",
    "device = torch.device(\"cpu\")\n",
    "\n",
    "# Create random input and output data\n",
    "x = torch.linspace(-math.pi, math.pi, 2000, device=device, dtype=dtype)\n",
    "y = torch.sin(x)\n",
    "\n",
    "# Randomly initialize weights\n",
    "a = torch.randn((), device=device, dtype=dtype)\n",
    "b = torch.randn((), device=device, dtype=dtype)\n",
    "c = torch.randn((), device=device, dtype=dtype)\n",
    "d = torch.randn((), device=device, dtype=dtype)\n",
    "\n",
    "learning_rate = 1e-6\n",
    "for t in range(2000):\n",
    "    # Forward pass: compute predicted y\n",
    "    y_pred = a + b * x + c * x ** 2 + d * x ** 3\n",
    "\n",
    "    # Compute and print loss\n",
    "    loss = (y_pred - y).pow(2).sum().item()\n",
    "    if t % 100 == 99:\n",
    "        print(t, loss)\n",
    "\n",
    "# Backprop to compute gradients of a, b, c, d with respect to loss\n",
    "    grad_y_pred = 2.0 * (y_pred - y)\n",
    "    grad_a = grad_y_pred.sum()\n",
    "    grad_b = (grad_y_pred * x).sum()\n",
    "    grad_c = (grad_y_pred * x ** 2).sum()\n",
    "    grad_d = (grad_y_pred * x ** 3).sum()\n",
    "\n",
    "    # Update weights using gradient descent\n",
    "    a -= learning_rate * grad_a\n",
    "    b -= learning_rate * grad_b\n",
    "    c -= learning_rate * grad_c\n",
    "    d -= learning_rate * grad_d\n",
    "\n",
    "\n",
    "print(f'Result: y = {a.item()} + {b.item()} x + {c.item()} x^2 + {d.item()} x^3')"
   ]
  },
  {
   "cell_type": "code",
   "execution_count": null,
   "id": "348f80d8-4225-4051-8e7d-c70a90ec6f84",
   "metadata": {},
   "outputs": [],
   "source": []
  }
 ],
 "metadata": {
  "kernelspec": {
   "display_name": "Python 3 (ipykernel)",
   "language": "python",
   "name": "python3"
  },
  "language_info": {
   "codemirror_mode": {
    "name": "ipython",
    "version": 3
   },
   "file_extension": ".py",
   "mimetype": "text/x-python",
   "name": "python",
   "nbconvert_exporter": "python",
   "pygments_lexer": "ipython3",
   "version": "3.9.12"
  }
 },
 "nbformat": 4,
 "nbformat_minor": 5
}
